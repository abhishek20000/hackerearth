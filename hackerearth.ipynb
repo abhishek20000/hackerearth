{
 "cells": [
  {
   "cell_type": "code",
   "execution_count": 1,
   "metadata": {},
   "outputs": [],
   "source": [
    "import pandas as pd\n",
    "import numpy as np\n",
    "import matplotlib.pyplot as plt\n",
    "import datetime as dt"
   ]
  },
  {
   "cell_type": "code",
   "execution_count": 2,
   "metadata": {},
   "outputs": [],
   "source": [
    "dataset=pd.read_csv(r'train.csv')\n"
   ]
  },
  {
   "cell_type": "code",
   "execution_count": 3,
   "metadata": {},
   "outputs": [
    {
     "data": {
      "text/html": [
       "<div>\n",
       "<style scoped>\n",
       "    .dataframe tbody tr th:only-of-type {\n",
       "        vertical-align: middle;\n",
       "    }\n",
       "\n",
       "    .dataframe tbody tr th {\n",
       "        vertical-align: top;\n",
       "    }\n",
       "\n",
       "    .dataframe thead th {\n",
       "        text-align: right;\n",
       "    }\n",
       "</style>\n",
       "<table border=\"1\" class=\"dataframe\">\n",
       "  <thead>\n",
       "    <tr style=\"text-align: right;\">\n",
       "      <th></th>\n",
       "      <th>customer_id</th>\n",
       "      <th>Name</th>\n",
       "      <th>age</th>\n",
       "      <th>gender</th>\n",
       "      <th>security_no</th>\n",
       "      <th>region_category</th>\n",
       "      <th>membership_category</th>\n",
       "      <th>joining_date</th>\n",
       "      <th>joined_through_referral</th>\n",
       "      <th>referral_id</th>\n",
       "      <th>...</th>\n",
       "      <th>avg_time_spent</th>\n",
       "      <th>avg_transaction_value</th>\n",
       "      <th>avg_frequency_login_days</th>\n",
       "      <th>points_in_wallet</th>\n",
       "      <th>used_special_discount</th>\n",
       "      <th>offer_application_preference</th>\n",
       "      <th>past_complaint</th>\n",
       "      <th>complaint_status</th>\n",
       "      <th>feedback</th>\n",
       "      <th>churn_risk_score</th>\n",
       "    </tr>\n",
       "  </thead>\n",
       "  <tbody>\n",
       "    <tr>\n",
       "      <th>0</th>\n",
       "      <td>fffe4300490044003600300030003800</td>\n",
       "      <td>Pattie Morrisey</td>\n",
       "      <td>18</td>\n",
       "      <td>F</td>\n",
       "      <td>XW0DQ7H</td>\n",
       "      <td>Village</td>\n",
       "      <td>Platinum Membership</td>\n",
       "      <td>2017-08-17</td>\n",
       "      <td>No</td>\n",
       "      <td>xxxxxxxx</td>\n",
       "      <td>...</td>\n",
       "      <td>300.63</td>\n",
       "      <td>53005.25</td>\n",
       "      <td>17.0</td>\n",
       "      <td>781.75</td>\n",
       "      <td>Yes</td>\n",
       "      <td>Yes</td>\n",
       "      <td>No</td>\n",
       "      <td>Not Applicable</td>\n",
       "      <td>Products always in Stock</td>\n",
       "      <td>2</td>\n",
       "    </tr>\n",
       "    <tr>\n",
       "      <th>1</th>\n",
       "      <td>fffe43004900440032003100300035003700</td>\n",
       "      <td>Traci Peery</td>\n",
       "      <td>32</td>\n",
       "      <td>F</td>\n",
       "      <td>5K0N3X1</td>\n",
       "      <td>City</td>\n",
       "      <td>Premium Membership</td>\n",
       "      <td>2017-08-28</td>\n",
       "      <td>?</td>\n",
       "      <td>CID21329</td>\n",
       "      <td>...</td>\n",
       "      <td>306.34</td>\n",
       "      <td>12838.38</td>\n",
       "      <td>10.0</td>\n",
       "      <td>NaN</td>\n",
       "      <td>Yes</td>\n",
       "      <td>No</td>\n",
       "      <td>Yes</td>\n",
       "      <td>Solved</td>\n",
       "      <td>Quality Customer Care</td>\n",
       "      <td>1</td>\n",
       "    </tr>\n",
       "    <tr>\n",
       "      <th>2</th>\n",
       "      <td>fffe4300490044003100390032003600</td>\n",
       "      <td>Merideth Mcmeen</td>\n",
       "      <td>44</td>\n",
       "      <td>F</td>\n",
       "      <td>1F2TCL3</td>\n",
       "      <td>Town</td>\n",
       "      <td>No Membership</td>\n",
       "      <td>2016-11-11</td>\n",
       "      <td>Yes</td>\n",
       "      <td>CID12313</td>\n",
       "      <td>...</td>\n",
       "      <td>516.16</td>\n",
       "      <td>21027.00</td>\n",
       "      <td>22.0</td>\n",
       "      <td>500.69</td>\n",
       "      <td>No</td>\n",
       "      <td>Yes</td>\n",
       "      <td>Yes</td>\n",
       "      <td>Solved in Follow-up</td>\n",
       "      <td>Poor Website</td>\n",
       "      <td>5</td>\n",
       "    </tr>\n",
       "    <tr>\n",
       "      <th>3</th>\n",
       "      <td>fffe43004900440036003000330031003600</td>\n",
       "      <td>Eufemia Cardwell</td>\n",
       "      <td>37</td>\n",
       "      <td>M</td>\n",
       "      <td>VJGJ33N</td>\n",
       "      <td>City</td>\n",
       "      <td>No Membership</td>\n",
       "      <td>2016-10-29</td>\n",
       "      <td>Yes</td>\n",
       "      <td>CID3793</td>\n",
       "      <td>...</td>\n",
       "      <td>53.27</td>\n",
       "      <td>25239.56</td>\n",
       "      <td>6.0</td>\n",
       "      <td>567.66</td>\n",
       "      <td>No</td>\n",
       "      <td>Yes</td>\n",
       "      <td>Yes</td>\n",
       "      <td>Unsolved</td>\n",
       "      <td>Poor Website</td>\n",
       "      <td>5</td>\n",
       "    </tr>\n",
       "    <tr>\n",
       "      <th>4</th>\n",
       "      <td>fffe43004900440031003900350030003600</td>\n",
       "      <td>Meghan Kosak</td>\n",
       "      <td>31</td>\n",
       "      <td>F</td>\n",
       "      <td>SVZXCWB</td>\n",
       "      <td>City</td>\n",
       "      <td>No Membership</td>\n",
       "      <td>2017-09-12</td>\n",
       "      <td>No</td>\n",
       "      <td>xxxxxxxx</td>\n",
       "      <td>...</td>\n",
       "      <td>113.13</td>\n",
       "      <td>24483.66</td>\n",
       "      <td>16.0</td>\n",
       "      <td>663.06</td>\n",
       "      <td>No</td>\n",
       "      <td>Yes</td>\n",
       "      <td>Yes</td>\n",
       "      <td>Solved</td>\n",
       "      <td>Poor Website</td>\n",
       "      <td>5</td>\n",
       "    </tr>\n",
       "  </tbody>\n",
       "</table>\n",
       "<p>5 rows × 25 columns</p>\n",
       "</div>"
      ],
      "text/plain": [
       "                            customer_id              Name  age gender  \\\n",
       "0      fffe4300490044003600300030003800   Pattie Morrisey   18      F   \n",
       "1  fffe43004900440032003100300035003700       Traci Peery   32      F   \n",
       "2      fffe4300490044003100390032003600   Merideth Mcmeen   44      F   \n",
       "3  fffe43004900440036003000330031003600  Eufemia Cardwell   37      M   \n",
       "4  fffe43004900440031003900350030003600      Meghan Kosak   31      F   \n",
       "\n",
       "  security_no region_category  membership_category joining_date  \\\n",
       "0     XW0DQ7H         Village  Platinum Membership   2017-08-17   \n",
       "1     5K0N3X1            City   Premium Membership   2017-08-28   \n",
       "2     1F2TCL3            Town        No Membership   2016-11-11   \n",
       "3     VJGJ33N            City        No Membership   2016-10-29   \n",
       "4     SVZXCWB            City        No Membership   2017-09-12   \n",
       "\n",
       "  joined_through_referral referral_id  ... avg_time_spent  \\\n",
       "0                      No    xxxxxxxx  ...         300.63   \n",
       "1                       ?    CID21329  ...         306.34   \n",
       "2                     Yes    CID12313  ...         516.16   \n",
       "3                     Yes     CID3793  ...          53.27   \n",
       "4                      No    xxxxxxxx  ...         113.13   \n",
       "\n",
       "  avg_transaction_value avg_frequency_login_days points_in_wallet  \\\n",
       "0              53005.25                     17.0           781.75   \n",
       "1              12838.38                     10.0              NaN   \n",
       "2              21027.00                     22.0           500.69   \n",
       "3              25239.56                      6.0           567.66   \n",
       "4              24483.66                     16.0           663.06   \n",
       "\n",
       "   used_special_discount  offer_application_preference  past_complaint  \\\n",
       "0                    Yes                           Yes              No   \n",
       "1                    Yes                            No             Yes   \n",
       "2                     No                           Yes             Yes   \n",
       "3                     No                           Yes             Yes   \n",
       "4                     No                           Yes             Yes   \n",
       "\n",
       "      complaint_status                  feedback churn_risk_score  \n",
       "0       Not Applicable  Products always in Stock                2  \n",
       "1               Solved     Quality Customer Care                1  \n",
       "2  Solved in Follow-up              Poor Website                5  \n",
       "3             Unsolved              Poor Website                5  \n",
       "4               Solved              Poor Website                5  \n",
       "\n",
       "[5 rows x 25 columns]"
      ]
     },
     "execution_count": 3,
     "metadata": {},
     "output_type": "execute_result"
    }
   ],
   "source": [
    "dataset.head(5)"
   ]
  },
  {
   "cell_type": "code",
   "execution_count": 4,
   "metadata": {},
   "outputs": [
    {
     "data": {
      "text/html": [
       "<div>\n",
       "<style scoped>\n",
       "    .dataframe tbody tr th:only-of-type {\n",
       "        vertical-align: middle;\n",
       "    }\n",
       "\n",
       "    .dataframe tbody tr th {\n",
       "        vertical-align: top;\n",
       "    }\n",
       "\n",
       "    .dataframe thead th {\n",
       "        text-align: right;\n",
       "    }\n",
       "</style>\n",
       "<table border=\"1\" class=\"dataframe\">\n",
       "  <thead>\n",
       "    <tr style=\"text-align: right;\">\n",
       "      <th></th>\n",
       "      <th>customer_id</th>\n",
       "      <th>Name</th>\n",
       "      <th>age</th>\n",
       "      <th>gender</th>\n",
       "      <th>security_no</th>\n",
       "      <th>region_category</th>\n",
       "      <th>membership_category</th>\n",
       "      <th>joining_date</th>\n",
       "      <th>joined_through_referral</th>\n",
       "      <th>referral_id</th>\n",
       "      <th>...</th>\n",
       "      <th>avg_time_spent</th>\n",
       "      <th>avg_transaction_value</th>\n",
       "      <th>avg_frequency_login_days</th>\n",
       "      <th>points_in_wallet</th>\n",
       "      <th>used_special_discount</th>\n",
       "      <th>offer_application_preference</th>\n",
       "      <th>past_complaint</th>\n",
       "      <th>complaint_status</th>\n",
       "      <th>feedback</th>\n",
       "      <th>churn_risk_score</th>\n",
       "    </tr>\n",
       "  </thead>\n",
       "  <tbody>\n",
       "    <tr>\n",
       "      <th>0</th>\n",
       "      <td>fffe43004900440033003600320039003400</td>\n",
       "      <td>Narcisa Ray</td>\n",
       "      <td>61</td>\n",
       "      <td>M</td>\n",
       "      <td>YN5RHKP</td>\n",
       "      <td>City</td>\n",
       "      <td>Basic Membership</td>\n",
       "      <td>2015-01-01</td>\n",
       "      <td>No</td>\n",
       "      <td>xxxxxxxx</td>\n",
       "      <td>...</td>\n",
       "      <td>203.08</td>\n",
       "      <td>21223.13</td>\n",
       "      <td>27.0</td>\n",
       "      <td>1092.62951</td>\n",
       "      <td>No</td>\n",
       "      <td>Yes</td>\n",
       "      <td>Yes</td>\n",
       "      <td>Solved</td>\n",
       "      <td>Too many ads</td>\n",
       "      <td>5</td>\n",
       "    </tr>\n",
       "    <tr>\n",
       "      <th>1</th>\n",
       "      <td>fffe43004900440036003200340036003800</td>\n",
       "      <td>Brinda Swing</td>\n",
       "      <td>24</td>\n",
       "      <td>F</td>\n",
       "      <td>TDPEMFS</td>\n",
       "      <td>NaN</td>\n",
       "      <td>No Membership</td>\n",
       "      <td>2015-01-01</td>\n",
       "      <td>Yes</td>\n",
       "      <td>CID21317</td>\n",
       "      <td>...</td>\n",
       "      <td>151.38</td>\n",
       "      <td>14447.79</td>\n",
       "      <td>21.0</td>\n",
       "      <td>524.27000</td>\n",
       "      <td>Yes</td>\n",
       "      <td>No</td>\n",
       "      <td>Yes</td>\n",
       "      <td>No Information Available</td>\n",
       "      <td>Poor Website</td>\n",
       "      <td>5</td>\n",
       "    </tr>\n",
       "    <tr>\n",
       "      <th>2</th>\n",
       "      <td>fffe43004900440031003300340030003700</td>\n",
       "      <td>Earlie Ashford</td>\n",
       "      <td>19</td>\n",
       "      <td>F</td>\n",
       "      <td>7E03ZH2</td>\n",
       "      <td>City</td>\n",
       "      <td>No Membership</td>\n",
       "      <td>2015-01-01</td>\n",
       "      <td>Yes</td>\n",
       "      <td>CID43428</td>\n",
       "      <td>...</td>\n",
       "      <td>97.11</td>\n",
       "      <td>46776.66</td>\n",
       "      <td>40.66717303389029</td>\n",
       "      <td>500.11000</td>\n",
       "      <td>Yes</td>\n",
       "      <td>No</td>\n",
       "      <td>Yes</td>\n",
       "      <td>Solved</td>\n",
       "      <td>Poor Website</td>\n",
       "      <td>5</td>\n",
       "    </tr>\n",
       "    <tr>\n",
       "      <th>3</th>\n",
       "      <td>fffe43004900440032003900340035003100</td>\n",
       "      <td>Blossom Allinder</td>\n",
       "      <td>13</td>\n",
       "      <td>M</td>\n",
       "      <td>PJ9N3VD</td>\n",
       "      <td>City</td>\n",
       "      <td>Premium Membership</td>\n",
       "      <td>2015-01-01</td>\n",
       "      <td>No</td>\n",
       "      <td>xxxxxxxx</td>\n",
       "      <td>...</td>\n",
       "      <td>145.57</td>\n",
       "      <td>12081.01</td>\n",
       "      <td>18.0</td>\n",
       "      <td>NaN</td>\n",
       "      <td>No</td>\n",
       "      <td>Yes</td>\n",
       "      <td>Yes</td>\n",
       "      <td>Unsolved</td>\n",
       "      <td>Poor Customer Service</td>\n",
       "      <td>3</td>\n",
       "    </tr>\n",
       "    <tr>\n",
       "      <th>4</th>\n",
       "      <td>fffe4300490044003500310036003700</td>\n",
       "      <td>Gilda Leisy</td>\n",
       "      <td>60</td>\n",
       "      <td>F</td>\n",
       "      <td>94FO7Z1</td>\n",
       "      <td>City</td>\n",
       "      <td>No Membership</td>\n",
       "      <td>2015-01-01</td>\n",
       "      <td>?</td>\n",
       "      <td>CID56534</td>\n",
       "      <td>...</td>\n",
       "      <td>127.40</td>\n",
       "      <td>11956.89</td>\n",
       "      <td>Error</td>\n",
       "      <td>685.35000</td>\n",
       "      <td>No</td>\n",
       "      <td>Yes</td>\n",
       "      <td>No</td>\n",
       "      <td>Not Applicable</td>\n",
       "      <td>Poor Customer Service</td>\n",
       "      <td>5</td>\n",
       "    </tr>\n",
       "  </tbody>\n",
       "</table>\n",
       "<p>5 rows × 25 columns</p>\n",
       "</div>"
      ],
      "text/plain": [
       "                            customer_id              Name  age gender  \\\n",
       "0  fffe43004900440033003600320039003400       Narcisa Ray   61      M   \n",
       "1  fffe43004900440036003200340036003800      Brinda Swing   24      F   \n",
       "2  fffe43004900440031003300340030003700    Earlie Ashford   19      F   \n",
       "3  fffe43004900440032003900340035003100  Blossom Allinder   13      M   \n",
       "4      fffe4300490044003500310036003700       Gilda Leisy   60      F   \n",
       "\n",
       "  security_no region_category membership_category joining_date  \\\n",
       "0     YN5RHKP            City    Basic Membership   2015-01-01   \n",
       "1     TDPEMFS             NaN       No Membership   2015-01-01   \n",
       "2     7E03ZH2            City       No Membership   2015-01-01   \n",
       "3     PJ9N3VD            City  Premium Membership   2015-01-01   \n",
       "4     94FO7Z1            City       No Membership   2015-01-01   \n",
       "\n",
       "  joined_through_referral referral_id  ... avg_time_spent  \\\n",
       "0                      No    xxxxxxxx  ...         203.08   \n",
       "1                     Yes    CID21317  ...         151.38   \n",
       "2                     Yes    CID43428  ...          97.11   \n",
       "3                      No    xxxxxxxx  ...         145.57   \n",
       "4                       ?    CID56534  ...         127.40   \n",
       "\n",
       "  avg_transaction_value avg_frequency_login_days points_in_wallet  \\\n",
       "0              21223.13                     27.0       1092.62951   \n",
       "1              14447.79                     21.0        524.27000   \n",
       "2              46776.66        40.66717303389029        500.11000   \n",
       "3              12081.01                     18.0              NaN   \n",
       "4              11956.89                    Error        685.35000   \n",
       "\n",
       "   used_special_discount  offer_application_preference  past_complaint  \\\n",
       "0                     No                           Yes             Yes   \n",
       "1                    Yes                            No             Yes   \n",
       "2                    Yes                            No             Yes   \n",
       "3                     No                           Yes             Yes   \n",
       "4                     No                           Yes              No   \n",
       "\n",
       "           complaint_status               feedback churn_risk_score  \n",
       "0                    Solved           Too many ads                5  \n",
       "1  No Information Available           Poor Website                5  \n",
       "2                    Solved           Poor Website                5  \n",
       "3                  Unsolved  Poor Customer Service                3  \n",
       "4            Not Applicable  Poor Customer Service                5  \n",
       "\n",
       "[5 rows x 25 columns]"
      ]
     },
     "execution_count": 4,
     "metadata": {},
     "output_type": "execute_result"
    }
   ],
   "source": [
    "dataset= dataset.sort_values(by=['joining_date'],ignore_index=True)\n",
    "dataset.head(5)"
   ]
  },
  {
   "cell_type": "code",
   "execution_count": 5,
   "metadata": {},
   "outputs": [
    {
     "name": "stdout",
     "output_type": "stream",
     "text": [
      "<class 'pandas.core.frame.DataFrame'>\n",
      "RangeIndex: 36992 entries, 0 to 36991\n",
      "Data columns (total 25 columns):\n",
      " #   Column                        Non-Null Count  Dtype  \n",
      "---  ------                        --------------  -----  \n",
      " 0   customer_id                   36992 non-null  object \n",
      " 1   Name                          36992 non-null  object \n",
      " 2   age                           36992 non-null  int64  \n",
      " 3   gender                        36992 non-null  object \n",
      " 4   security_no                   36992 non-null  object \n",
      " 5   region_category               31564 non-null  object \n",
      " 6   membership_category           36992 non-null  object \n",
      " 7   joining_date                  36992 non-null  object \n",
      " 8   joined_through_referral       36992 non-null  object \n",
      " 9   referral_id                   36992 non-null  object \n",
      " 10  preferred_offer_types         36704 non-null  object \n",
      " 11  medium_of_operation           36992 non-null  object \n",
      " 12  internet_option               36992 non-null  object \n",
      " 13  last_visit_time               36992 non-null  object \n",
      " 14  days_since_last_login         36992 non-null  int64  \n",
      " 15  avg_time_spent                36992 non-null  float64\n",
      " 16  avg_transaction_value         36992 non-null  float64\n",
      " 17  avg_frequency_login_days      36992 non-null  object \n",
      " 18  points_in_wallet              33549 non-null  float64\n",
      " 19  used_special_discount         36992 non-null  object \n",
      " 20  offer_application_preference  36992 non-null  object \n",
      " 21  past_complaint                36992 non-null  object \n",
      " 22  complaint_status              36992 non-null  object \n",
      " 23  feedback                      36992 non-null  object \n",
      " 24  churn_risk_score              36992 non-null  int64  \n",
      "dtypes: float64(3), int64(3), object(19)\n",
      "memory usage: 7.1+ MB\n"
     ]
    }
   ],
   "source": [
    "dataset.info()"
   ]
  },
  {
   "cell_type": "code",
   "execution_count": 6,
   "metadata": {},
   "outputs": [
    {
     "data": {
      "text/plain": [
       "(36992, 25)"
      ]
     },
     "execution_count": 6,
     "metadata": {},
     "output_type": "execute_result"
    }
   ],
   "source": [
    "dataset.shape"
   ]
  },
  {
   "cell_type": "code",
   "execution_count": 7,
   "metadata": {},
   "outputs": [
    {
     "data": {
      "text/plain": [
       "customer_id                     36992\n",
       "Name                            36992\n",
       "age                                55\n",
       "gender                              3\n",
       "security_no                     36992\n",
       "region_category                     3\n",
       "membership_category                 6\n",
       "joining_date                     1096\n",
       "joined_through_referral             3\n",
       "referral_id                     11359\n",
       "preferred_offer_types               3\n",
       "medium_of_operation                 4\n",
       "internet_option                     3\n",
       "last_visit_time                 30101\n",
       "days_since_last_login              27\n",
       "avg_time_spent                  25961\n",
       "avg_transaction_value           36894\n",
       "avg_frequency_login_days         1654\n",
       "points_in_wallet                23699\n",
       "used_special_discount               2\n",
       "offer_application_preference        2\n",
       "past_complaint                      2\n",
       "complaint_status                    5\n",
       "feedback                            9\n",
       "churn_risk_score                    6\n",
       "dtype: int64"
      ]
     },
     "execution_count": 7,
     "metadata": {},
     "output_type": "execute_result"
    }
   ],
   "source": [
    "dataset.nunique()"
   ]
  },
  {
   "cell_type": "code",
   "execution_count": 8,
   "metadata": {},
   "outputs": [
    {
     "data": {
      "text/plain": [
       "customer_id                        0\n",
       "Name                               0\n",
       "age                                0\n",
       "gender                             0\n",
       "security_no                        0\n",
       "region_category                 5428\n",
       "membership_category                0\n",
       "joining_date                       0\n",
       "joined_through_referral            0\n",
       "referral_id                        0\n",
       "preferred_offer_types            288\n",
       "medium_of_operation                0\n",
       "internet_option                    0\n",
       "last_visit_time                    0\n",
       "days_since_last_login              0\n",
       "avg_time_spent                     0\n",
       "avg_transaction_value              0\n",
       "avg_frequency_login_days           0\n",
       "points_in_wallet                3443\n",
       "used_special_discount              0\n",
       "offer_application_preference       0\n",
       "past_complaint                     0\n",
       "complaint_status                   0\n",
       "feedback                           0\n",
       "churn_risk_score                   0\n",
       "dtype: int64"
      ]
     },
     "execution_count": 8,
     "metadata": {},
     "output_type": "execute_result"
    }
   ],
   "source": [
    "dataset.isnull().sum()"
   ]
  },
  {
   "cell_type": "code",
   "execution_count": 9,
   "metadata": {},
   "outputs": [],
   "source": [
    "dataset=dataset.drop(['customer_id','Name','security_no'], axis = 1) "
   ]
  },
  {
   "cell_type": "code",
   "execution_count": 10,
   "metadata": {},
   "outputs": [
    {
     "data": {
      "text/html": [
       "<div>\n",
       "<style scoped>\n",
       "    .dataframe tbody tr th:only-of-type {\n",
       "        vertical-align: middle;\n",
       "    }\n",
       "\n",
       "    .dataframe tbody tr th {\n",
       "        vertical-align: top;\n",
       "    }\n",
       "\n",
       "    .dataframe thead th {\n",
       "        text-align: right;\n",
       "    }\n",
       "</style>\n",
       "<table border=\"1\" class=\"dataframe\">\n",
       "  <thead>\n",
       "    <tr style=\"text-align: right;\">\n",
       "      <th></th>\n",
       "      <th>age</th>\n",
       "      <th>gender</th>\n",
       "      <th>region_category</th>\n",
       "      <th>membership_category</th>\n",
       "      <th>joining_date</th>\n",
       "      <th>joined_through_referral</th>\n",
       "      <th>referral_id</th>\n",
       "      <th>preferred_offer_types</th>\n",
       "      <th>medium_of_operation</th>\n",
       "      <th>internet_option</th>\n",
       "      <th>...</th>\n",
       "      <th>avg_time_spent</th>\n",
       "      <th>avg_transaction_value</th>\n",
       "      <th>avg_frequency_login_days</th>\n",
       "      <th>points_in_wallet</th>\n",
       "      <th>used_special_discount</th>\n",
       "      <th>offer_application_preference</th>\n",
       "      <th>past_complaint</th>\n",
       "      <th>complaint_status</th>\n",
       "      <th>feedback</th>\n",
       "      <th>churn_risk_score</th>\n",
       "    </tr>\n",
       "  </thead>\n",
       "  <tbody>\n",
       "    <tr>\n",
       "      <th>0</th>\n",
       "      <td>61</td>\n",
       "      <td>M</td>\n",
       "      <td>City</td>\n",
       "      <td>Basic Membership</td>\n",
       "      <td>2015-01-01</td>\n",
       "      <td>No</td>\n",
       "      <td>xxxxxxxx</td>\n",
       "      <td>Gift Vouchers/Coupons</td>\n",
       "      <td>Smartphone</td>\n",
       "      <td>Mobile_Data</td>\n",
       "      <td>...</td>\n",
       "      <td>203.080000</td>\n",
       "      <td>21223.13</td>\n",
       "      <td>27.0</td>\n",
       "      <td>1092.62951</td>\n",
       "      <td>No</td>\n",
       "      <td>Yes</td>\n",
       "      <td>Yes</td>\n",
       "      <td>Solved</td>\n",
       "      <td>Too many ads</td>\n",
       "      <td>5</td>\n",
       "    </tr>\n",
       "    <tr>\n",
       "      <th>1</th>\n",
       "      <td>24</td>\n",
       "      <td>F</td>\n",
       "      <td>NaN</td>\n",
       "      <td>No Membership</td>\n",
       "      <td>2015-01-01</td>\n",
       "      <td>Yes</td>\n",
       "      <td>CID21317</td>\n",
       "      <td>Credit/Debit Card Offers</td>\n",
       "      <td>Desktop</td>\n",
       "      <td>Wi-Fi</td>\n",
       "      <td>...</td>\n",
       "      <td>151.380000</td>\n",
       "      <td>14447.79</td>\n",
       "      <td>21.0</td>\n",
       "      <td>524.27000</td>\n",
       "      <td>Yes</td>\n",
       "      <td>No</td>\n",
       "      <td>Yes</td>\n",
       "      <td>No Information Available</td>\n",
       "      <td>Poor Website</td>\n",
       "      <td>5</td>\n",
       "    </tr>\n",
       "    <tr>\n",
       "      <th>2</th>\n",
       "      <td>19</td>\n",
       "      <td>F</td>\n",
       "      <td>City</td>\n",
       "      <td>No Membership</td>\n",
       "      <td>2015-01-01</td>\n",
       "      <td>Yes</td>\n",
       "      <td>CID43428</td>\n",
       "      <td>Gift Vouchers/Coupons</td>\n",
       "      <td>Desktop</td>\n",
       "      <td>Mobile_Data</td>\n",
       "      <td>...</td>\n",
       "      <td>97.110000</td>\n",
       "      <td>46776.66</td>\n",
       "      <td>40.66717303389029</td>\n",
       "      <td>500.11000</td>\n",
       "      <td>Yes</td>\n",
       "      <td>No</td>\n",
       "      <td>Yes</td>\n",
       "      <td>Solved</td>\n",
       "      <td>Poor Website</td>\n",
       "      <td>5</td>\n",
       "    </tr>\n",
       "    <tr>\n",
       "      <th>3</th>\n",
       "      <td>13</td>\n",
       "      <td>M</td>\n",
       "      <td>City</td>\n",
       "      <td>Premium Membership</td>\n",
       "      <td>2015-01-01</td>\n",
       "      <td>No</td>\n",
       "      <td>xxxxxxxx</td>\n",
       "      <td>Without Offers</td>\n",
       "      <td>Desktop</td>\n",
       "      <td>Fiber_Optic</td>\n",
       "      <td>...</td>\n",
       "      <td>145.570000</td>\n",
       "      <td>12081.01</td>\n",
       "      <td>18.0</td>\n",
       "      <td>NaN</td>\n",
       "      <td>No</td>\n",
       "      <td>Yes</td>\n",
       "      <td>Yes</td>\n",
       "      <td>Unsolved</td>\n",
       "      <td>Poor Customer Service</td>\n",
       "      <td>3</td>\n",
       "    </tr>\n",
       "    <tr>\n",
       "      <th>4</th>\n",
       "      <td>60</td>\n",
       "      <td>F</td>\n",
       "      <td>City</td>\n",
       "      <td>No Membership</td>\n",
       "      <td>2015-01-01</td>\n",
       "      <td>?</td>\n",
       "      <td>CID56534</td>\n",
       "      <td>Without Offers</td>\n",
       "      <td>?</td>\n",
       "      <td>Mobile_Data</td>\n",
       "      <td>...</td>\n",
       "      <td>127.400000</td>\n",
       "      <td>11956.89</td>\n",
       "      <td>Error</td>\n",
       "      <td>685.35000</td>\n",
       "      <td>No</td>\n",
       "      <td>Yes</td>\n",
       "      <td>No</td>\n",
       "      <td>Not Applicable</td>\n",
       "      <td>Poor Customer Service</td>\n",
       "      <td>5</td>\n",
       "    </tr>\n",
       "    <tr>\n",
       "      <th>5</th>\n",
       "      <td>21</td>\n",
       "      <td>M</td>\n",
       "      <td>City</td>\n",
       "      <td>Silver Membership</td>\n",
       "      <td>2015-01-01</td>\n",
       "      <td>?</td>\n",
       "      <td>CID23523</td>\n",
       "      <td>Gift Vouchers/Coupons</td>\n",
       "      <td>Desktop</td>\n",
       "      <td>Wi-Fi</td>\n",
       "      <td>...</td>\n",
       "      <td>-725.678715</td>\n",
       "      <td>37817.64</td>\n",
       "      <td>18.0</td>\n",
       "      <td>693.41000</td>\n",
       "      <td>No</td>\n",
       "      <td>Yes</td>\n",
       "      <td>No</td>\n",
       "      <td>Not Applicable</td>\n",
       "      <td>Poor Website</td>\n",
       "      <td>4</td>\n",
       "    </tr>\n",
       "    <tr>\n",
       "      <th>6</th>\n",
       "      <td>46</td>\n",
       "      <td>M</td>\n",
       "      <td>City</td>\n",
       "      <td>Gold Membership</td>\n",
       "      <td>2015-01-01</td>\n",
       "      <td>No</td>\n",
       "      <td>xxxxxxxx</td>\n",
       "      <td>Without Offers</td>\n",
       "      <td>Desktop</td>\n",
       "      <td>Mobile_Data</td>\n",
       "      <td>...</td>\n",
       "      <td>120.590000</td>\n",
       "      <td>25398.64</td>\n",
       "      <td>12.0</td>\n",
       "      <td>NaN</td>\n",
       "      <td>No</td>\n",
       "      <td>Yes</td>\n",
       "      <td>Yes</td>\n",
       "      <td>Solved in Follow-up</td>\n",
       "      <td>Poor Product Quality</td>\n",
       "      <td>4</td>\n",
       "    </tr>\n",
       "    <tr>\n",
       "      <th>7</th>\n",
       "      <td>56</td>\n",
       "      <td>F</td>\n",
       "      <td>NaN</td>\n",
       "      <td>Silver Membership</td>\n",
       "      <td>2015-01-01</td>\n",
       "      <td>No</td>\n",
       "      <td>xxxxxxxx</td>\n",
       "      <td>Without Offers</td>\n",
       "      <td>Smartphone</td>\n",
       "      <td>Wi-Fi</td>\n",
       "      <td>...</td>\n",
       "      <td>-705.239984</td>\n",
       "      <td>41933.42</td>\n",
       "      <td>24.0</td>\n",
       "      <td>701.83000</td>\n",
       "      <td>Yes</td>\n",
       "      <td>No</td>\n",
       "      <td>Yes</td>\n",
       "      <td>No Information Available</td>\n",
       "      <td>Poor Product Quality</td>\n",
       "      <td>3</td>\n",
       "    </tr>\n",
       "    <tr>\n",
       "      <th>8</th>\n",
       "      <td>18</td>\n",
       "      <td>F</td>\n",
       "      <td>Town</td>\n",
       "      <td>Gold Membership</td>\n",
       "      <td>2015-01-01</td>\n",
       "      <td>?</td>\n",
       "      <td>CID43428</td>\n",
       "      <td>Credit/Debit Card Offers</td>\n",
       "      <td>?</td>\n",
       "      <td>Wi-Fi</td>\n",
       "      <td>...</td>\n",
       "      <td>555.850000</td>\n",
       "      <td>4763.05</td>\n",
       "      <td>11.0</td>\n",
       "      <td>702.35000</td>\n",
       "      <td>Yes</td>\n",
       "      <td>No</td>\n",
       "      <td>Yes</td>\n",
       "      <td>No Information Available</td>\n",
       "      <td>No reason specified</td>\n",
       "      <td>4</td>\n",
       "    </tr>\n",
       "    <tr>\n",
       "      <th>9</th>\n",
       "      <td>29</td>\n",
       "      <td>M</td>\n",
       "      <td>City</td>\n",
       "      <td>No Membership</td>\n",
       "      <td>2015-01-01</td>\n",
       "      <td>Yes</td>\n",
       "      <td>CID3979</td>\n",
       "      <td>Without Offers</td>\n",
       "      <td>Smartphone</td>\n",
       "      <td>Mobile_Data</td>\n",
       "      <td>...</td>\n",
       "      <td>138.130000</td>\n",
       "      <td>44571.99</td>\n",
       "      <td>22.0</td>\n",
       "      <td>NaN</td>\n",
       "      <td>No</td>\n",
       "      <td>Yes</td>\n",
       "      <td>Yes</td>\n",
       "      <td>Solved in Follow-up</td>\n",
       "      <td>Too many ads</td>\n",
       "      <td>5</td>\n",
       "    </tr>\n",
       "  </tbody>\n",
       "</table>\n",
       "<p>10 rows × 22 columns</p>\n",
       "</div>"
      ],
      "text/plain": [
       "   age gender region_category membership_category joining_date  \\\n",
       "0   61      M            City    Basic Membership   2015-01-01   \n",
       "1   24      F             NaN       No Membership   2015-01-01   \n",
       "2   19      F            City       No Membership   2015-01-01   \n",
       "3   13      M            City  Premium Membership   2015-01-01   \n",
       "4   60      F            City       No Membership   2015-01-01   \n",
       "5   21      M            City   Silver Membership   2015-01-01   \n",
       "6   46      M            City     Gold Membership   2015-01-01   \n",
       "7   56      F             NaN   Silver Membership   2015-01-01   \n",
       "8   18      F            Town     Gold Membership   2015-01-01   \n",
       "9   29      M            City       No Membership   2015-01-01   \n",
       "\n",
       "  joined_through_referral referral_id     preferred_offer_types  \\\n",
       "0                      No    xxxxxxxx     Gift Vouchers/Coupons   \n",
       "1                     Yes    CID21317  Credit/Debit Card Offers   \n",
       "2                     Yes    CID43428     Gift Vouchers/Coupons   \n",
       "3                      No    xxxxxxxx            Without Offers   \n",
       "4                       ?    CID56534            Without Offers   \n",
       "5                       ?    CID23523     Gift Vouchers/Coupons   \n",
       "6                      No    xxxxxxxx            Without Offers   \n",
       "7                      No    xxxxxxxx            Without Offers   \n",
       "8                       ?    CID43428  Credit/Debit Card Offers   \n",
       "9                     Yes     CID3979            Without Offers   \n",
       "\n",
       "  medium_of_operation internet_option  ... avg_time_spent  \\\n",
       "0          Smartphone     Mobile_Data  ...     203.080000   \n",
       "1             Desktop           Wi-Fi  ...     151.380000   \n",
       "2             Desktop     Mobile_Data  ...      97.110000   \n",
       "3             Desktop     Fiber_Optic  ...     145.570000   \n",
       "4                   ?     Mobile_Data  ...     127.400000   \n",
       "5             Desktop           Wi-Fi  ...    -725.678715   \n",
       "6             Desktop     Mobile_Data  ...     120.590000   \n",
       "7          Smartphone           Wi-Fi  ...    -705.239984   \n",
       "8                   ?           Wi-Fi  ...     555.850000   \n",
       "9          Smartphone     Mobile_Data  ...     138.130000   \n",
       "\n",
       "   avg_transaction_value  avg_frequency_login_days  points_in_wallet  \\\n",
       "0               21223.13                      27.0        1092.62951   \n",
       "1               14447.79                      21.0         524.27000   \n",
       "2               46776.66         40.66717303389029         500.11000   \n",
       "3               12081.01                      18.0               NaN   \n",
       "4               11956.89                     Error         685.35000   \n",
       "5               37817.64                      18.0         693.41000   \n",
       "6               25398.64                      12.0               NaN   \n",
       "7               41933.42                      24.0         701.83000   \n",
       "8                4763.05                      11.0         702.35000   \n",
       "9               44571.99                      22.0               NaN   \n",
       "\n",
       "  used_special_discount  offer_application_preference past_complaint  \\\n",
       "0                    No                           Yes            Yes   \n",
       "1                   Yes                            No            Yes   \n",
       "2                   Yes                            No            Yes   \n",
       "3                    No                           Yes            Yes   \n",
       "4                    No                           Yes             No   \n",
       "5                    No                           Yes             No   \n",
       "6                    No                           Yes            Yes   \n",
       "7                   Yes                            No            Yes   \n",
       "8                   Yes                            No            Yes   \n",
       "9                    No                           Yes            Yes   \n",
       "\n",
       "           complaint_status               feedback churn_risk_score  \n",
       "0                    Solved           Too many ads                5  \n",
       "1  No Information Available           Poor Website                5  \n",
       "2                    Solved           Poor Website                5  \n",
       "3                  Unsolved  Poor Customer Service                3  \n",
       "4            Not Applicable  Poor Customer Service                5  \n",
       "5            Not Applicable           Poor Website                4  \n",
       "6       Solved in Follow-up   Poor Product Quality                4  \n",
       "7  No Information Available   Poor Product Quality                3  \n",
       "8  No Information Available    No reason specified                4  \n",
       "9       Solved in Follow-up           Too many ads                5  \n",
       "\n",
       "[10 rows x 22 columns]"
      ]
     },
     "execution_count": 10,
     "metadata": {},
     "output_type": "execute_result"
    }
   ],
   "source": [
    "dataset.head(10)"
   ]
  },
  {
   "cell_type": "code",
   "execution_count": 11,
   "metadata": {},
   "outputs": [
    {
     "data": {
      "text/plain": [
       "age                               int64\n",
       "gender                           object\n",
       "region_category                  object\n",
       "membership_category              object\n",
       "joining_date                     object\n",
       "joined_through_referral          object\n",
       "referral_id                      object\n",
       "preferred_offer_types            object\n",
       "medium_of_operation              object\n",
       "internet_option                  object\n",
       "last_visit_time                  object\n",
       "days_since_last_login             int64\n",
       "avg_time_spent                  float64\n",
       "avg_transaction_value           float64\n",
       "avg_frequency_login_days         object\n",
       "points_in_wallet                float64\n",
       "used_special_discount            object\n",
       "offer_application_preference     object\n",
       "past_complaint                   object\n",
       "complaint_status                 object\n",
       "feedback                         object\n",
       "churn_risk_score                  int64\n",
       "dtype: object"
      ]
     },
     "execution_count": 11,
     "metadata": {},
     "output_type": "execute_result"
    }
   ],
   "source": [
    "dataset.dtypes"
   ]
  },
  {
   "cell_type": "code",
   "execution_count": 12,
   "metadata": {},
   "outputs": [],
   "source": [
    "dataset_numerical = dataset.select_dtypes(include='int64')\n"
   ]
  },
  {
   "cell_type": "code",
   "execution_count": 13,
   "metadata": {},
   "outputs": [
    {
     "data": {
      "text/html": [
       "<div>\n",
       "<style scoped>\n",
       "    .dataframe tbody tr th:only-of-type {\n",
       "        vertical-align: middle;\n",
       "    }\n",
       "\n",
       "    .dataframe tbody tr th {\n",
       "        vertical-align: top;\n",
       "    }\n",
       "\n",
       "    .dataframe thead th {\n",
       "        text-align: right;\n",
       "    }\n",
       "</style>\n",
       "<table border=\"1\" class=\"dataframe\">\n",
       "  <thead>\n",
       "    <tr style=\"text-align: right;\">\n",
       "      <th></th>\n",
       "      <th>age</th>\n",
       "      <th>days_since_last_login</th>\n",
       "      <th>churn_risk_score</th>\n",
       "    </tr>\n",
       "  </thead>\n",
       "  <tbody>\n",
       "    <tr>\n",
       "      <th>0</th>\n",
       "      <td>61</td>\n",
       "      <td>24</td>\n",
       "      <td>5</td>\n",
       "    </tr>\n",
       "    <tr>\n",
       "      <th>1</th>\n",
       "      <td>24</td>\n",
       "      <td>15</td>\n",
       "      <td>5</td>\n",
       "    </tr>\n",
       "    <tr>\n",
       "      <th>2</th>\n",
       "      <td>19</td>\n",
       "      <td>2</td>\n",
       "      <td>5</td>\n",
       "    </tr>\n",
       "    <tr>\n",
       "      <th>3</th>\n",
       "      <td>13</td>\n",
       "      <td>20</td>\n",
       "      <td>3</td>\n",
       "    </tr>\n",
       "    <tr>\n",
       "      <th>4</th>\n",
       "      <td>60</td>\n",
       "      <td>14</td>\n",
       "      <td>5</td>\n",
       "    </tr>\n",
       "  </tbody>\n",
       "</table>\n",
       "</div>"
      ],
      "text/plain": [
       "   age  days_since_last_login  churn_risk_score\n",
       "0   61                     24                 5\n",
       "1   24                     15                 5\n",
       "2   19                      2                 5\n",
       "3   13                     20                 3\n",
       "4   60                     14                 5"
      ]
     },
     "execution_count": 13,
     "metadata": {},
     "output_type": "execute_result"
    }
   ],
   "source": [
    "dataset_numerical.head(5)"
   ]
  },
  {
   "cell_type": "code",
   "execution_count": 14,
   "metadata": {},
   "outputs": [
    {
     "data": {
      "text/html": [
       "<div>\n",
       "<style scoped>\n",
       "    .dataframe tbody tr th:only-of-type {\n",
       "        vertical-align: middle;\n",
       "    }\n",
       "\n",
       "    .dataframe tbody tr th {\n",
       "        vertical-align: top;\n",
       "    }\n",
       "\n",
       "    .dataframe thead th {\n",
       "        text-align: right;\n",
       "    }\n",
       "</style>\n",
       "<table border=\"1\" class=\"dataframe\">\n",
       "  <thead>\n",
       "    <tr style=\"text-align: right;\">\n",
       "      <th></th>\n",
       "      <th>gender</th>\n",
       "      <th>region_category</th>\n",
       "      <th>membership_category</th>\n",
       "      <th>joining_date</th>\n",
       "      <th>joined_through_referral</th>\n",
       "      <th>referral_id</th>\n",
       "      <th>preferred_offer_types</th>\n",
       "      <th>medium_of_operation</th>\n",
       "      <th>internet_option</th>\n",
       "      <th>last_visit_time</th>\n",
       "      <th>avg_frequency_login_days</th>\n",
       "      <th>used_special_discount</th>\n",
       "      <th>offer_application_preference</th>\n",
       "      <th>past_complaint</th>\n",
       "      <th>complaint_status</th>\n",
       "      <th>feedback</th>\n",
       "    </tr>\n",
       "  </thead>\n",
       "  <tbody>\n",
       "    <tr>\n",
       "      <th>0</th>\n",
       "      <td>M</td>\n",
       "      <td>City</td>\n",
       "      <td>Basic Membership</td>\n",
       "      <td>2015-01-01</td>\n",
       "      <td>No</td>\n",
       "      <td>xxxxxxxx</td>\n",
       "      <td>Gift Vouchers/Coupons</td>\n",
       "      <td>Smartphone</td>\n",
       "      <td>Mobile_Data</td>\n",
       "      <td>22:43:32</td>\n",
       "      <td>27.0</td>\n",
       "      <td>No</td>\n",
       "      <td>Yes</td>\n",
       "      <td>Yes</td>\n",
       "      <td>Solved</td>\n",
       "      <td>Too many ads</td>\n",
       "    </tr>\n",
       "    <tr>\n",
       "      <th>1</th>\n",
       "      <td>F</td>\n",
       "      <td>NaN</td>\n",
       "      <td>No Membership</td>\n",
       "      <td>2015-01-01</td>\n",
       "      <td>Yes</td>\n",
       "      <td>CID21317</td>\n",
       "      <td>Credit/Debit Card Offers</td>\n",
       "      <td>Desktop</td>\n",
       "      <td>Wi-Fi</td>\n",
       "      <td>09:26:35</td>\n",
       "      <td>21.0</td>\n",
       "      <td>Yes</td>\n",
       "      <td>No</td>\n",
       "      <td>Yes</td>\n",
       "      <td>No Information Available</td>\n",
       "      <td>Poor Website</td>\n",
       "    </tr>\n",
       "    <tr>\n",
       "      <th>2</th>\n",
       "      <td>F</td>\n",
       "      <td>City</td>\n",
       "      <td>No Membership</td>\n",
       "      <td>2015-01-01</td>\n",
       "      <td>Yes</td>\n",
       "      <td>CID43428</td>\n",
       "      <td>Gift Vouchers/Coupons</td>\n",
       "      <td>Desktop</td>\n",
       "      <td>Mobile_Data</td>\n",
       "      <td>18:10:16</td>\n",
       "      <td>40.66717303389029</td>\n",
       "      <td>Yes</td>\n",
       "      <td>No</td>\n",
       "      <td>Yes</td>\n",
       "      <td>Solved</td>\n",
       "      <td>Poor Website</td>\n",
       "    </tr>\n",
       "    <tr>\n",
       "      <th>3</th>\n",
       "      <td>M</td>\n",
       "      <td>City</td>\n",
       "      <td>Premium Membership</td>\n",
       "      <td>2015-01-01</td>\n",
       "      <td>No</td>\n",
       "      <td>xxxxxxxx</td>\n",
       "      <td>Without Offers</td>\n",
       "      <td>Desktop</td>\n",
       "      <td>Fiber_Optic</td>\n",
       "      <td>17:35:08</td>\n",
       "      <td>18.0</td>\n",
       "      <td>No</td>\n",
       "      <td>Yes</td>\n",
       "      <td>Yes</td>\n",
       "      <td>Unsolved</td>\n",
       "      <td>Poor Customer Service</td>\n",
       "    </tr>\n",
       "    <tr>\n",
       "      <th>4</th>\n",
       "      <td>F</td>\n",
       "      <td>City</td>\n",
       "      <td>No Membership</td>\n",
       "      <td>2015-01-01</td>\n",
       "      <td>?</td>\n",
       "      <td>CID56534</td>\n",
       "      <td>Without Offers</td>\n",
       "      <td>?</td>\n",
       "      <td>Mobile_Data</td>\n",
       "      <td>03:17:20</td>\n",
       "      <td>Error</td>\n",
       "      <td>No</td>\n",
       "      <td>Yes</td>\n",
       "      <td>No</td>\n",
       "      <td>Not Applicable</td>\n",
       "      <td>Poor Customer Service</td>\n",
       "    </tr>\n",
       "  </tbody>\n",
       "</table>\n",
       "</div>"
      ],
      "text/plain": [
       "  gender region_category membership_category joining_date  \\\n",
       "0      M            City    Basic Membership   2015-01-01   \n",
       "1      F             NaN       No Membership   2015-01-01   \n",
       "2      F            City       No Membership   2015-01-01   \n",
       "3      M            City  Premium Membership   2015-01-01   \n",
       "4      F            City       No Membership   2015-01-01   \n",
       "\n",
       "  joined_through_referral referral_id     preferred_offer_types  \\\n",
       "0                      No    xxxxxxxx     Gift Vouchers/Coupons   \n",
       "1                     Yes    CID21317  Credit/Debit Card Offers   \n",
       "2                     Yes    CID43428     Gift Vouchers/Coupons   \n",
       "3                      No    xxxxxxxx            Without Offers   \n",
       "4                       ?    CID56534            Without Offers   \n",
       "\n",
       "  medium_of_operation internet_option last_visit_time  \\\n",
       "0          Smartphone     Mobile_Data        22:43:32   \n",
       "1             Desktop           Wi-Fi        09:26:35   \n",
       "2             Desktop     Mobile_Data        18:10:16   \n",
       "3             Desktop     Fiber_Optic        17:35:08   \n",
       "4                   ?     Mobile_Data        03:17:20   \n",
       "\n",
       "  avg_frequency_login_days used_special_discount offer_application_preference  \\\n",
       "0                     27.0                    No                          Yes   \n",
       "1                     21.0                   Yes                           No   \n",
       "2        40.66717303389029                   Yes                           No   \n",
       "3                     18.0                    No                          Yes   \n",
       "4                    Error                    No                          Yes   \n",
       "\n",
       "  past_complaint          complaint_status               feedback  \n",
       "0            Yes                    Solved           Too many ads  \n",
       "1            Yes  No Information Available           Poor Website  \n",
       "2            Yes                    Solved           Poor Website  \n",
       "3            Yes                  Unsolved  Poor Customer Service  \n",
       "4             No            Not Applicable  Poor Customer Service  "
      ]
     },
     "execution_count": 14,
     "metadata": {},
     "output_type": "execute_result"
    }
   ],
   "source": [
    "dataset_object = dataset.select_dtypes(include='object')\n",
    "dataset_object.head(5)"
   ]
  },
  {
   "cell_type": "code",
   "execution_count": 15,
   "metadata": {},
   "outputs": [
    {
     "data": {
      "text/html": [
       "<div>\n",
       "<style scoped>\n",
       "    .dataframe tbody tr th:only-of-type {\n",
       "        vertical-align: middle;\n",
       "    }\n",
       "\n",
       "    .dataframe tbody tr th {\n",
       "        vertical-align: top;\n",
       "    }\n",
       "\n",
       "    .dataframe thead th {\n",
       "        text-align: right;\n",
       "    }\n",
       "</style>\n",
       "<table border=\"1\" class=\"dataframe\">\n",
       "  <thead>\n",
       "    <tr style=\"text-align: right;\">\n",
       "      <th></th>\n",
       "      <th>avg_time_spent</th>\n",
       "      <th>avg_transaction_value</th>\n",
       "      <th>points_in_wallet</th>\n",
       "    </tr>\n",
       "  </thead>\n",
       "  <tbody>\n",
       "    <tr>\n",
       "      <th>0</th>\n",
       "      <td>203.08</td>\n",
       "      <td>21223.13</td>\n",
       "      <td>1092.62951</td>\n",
       "    </tr>\n",
       "    <tr>\n",
       "      <th>1</th>\n",
       "      <td>151.38</td>\n",
       "      <td>14447.79</td>\n",
       "      <td>524.27000</td>\n",
       "    </tr>\n",
       "    <tr>\n",
       "      <th>2</th>\n",
       "      <td>97.11</td>\n",
       "      <td>46776.66</td>\n",
       "      <td>500.11000</td>\n",
       "    </tr>\n",
       "    <tr>\n",
       "      <th>3</th>\n",
       "      <td>145.57</td>\n",
       "      <td>12081.01</td>\n",
       "      <td>NaN</td>\n",
       "    </tr>\n",
       "    <tr>\n",
       "      <th>4</th>\n",
       "      <td>127.40</td>\n",
       "      <td>11956.89</td>\n",
       "      <td>685.35000</td>\n",
       "    </tr>\n",
       "  </tbody>\n",
       "</table>\n",
       "</div>"
      ],
      "text/plain": [
       "   avg_time_spent  avg_transaction_value  points_in_wallet\n",
       "0          203.08               21223.13        1092.62951\n",
       "1          151.38               14447.79         524.27000\n",
       "2           97.11               46776.66         500.11000\n",
       "3          145.57               12081.01               NaN\n",
       "4          127.40               11956.89         685.35000"
      ]
     },
     "execution_count": 15,
     "metadata": {},
     "output_type": "execute_result"
    }
   ],
   "source": [
    "dataset_float=dataset.select_dtypes(include='float')\n",
    "dataset_float.head(5)"
   ]
  },
  {
   "cell_type": "code",
   "execution_count": 16,
   "metadata": {},
   "outputs": [
    {
     "data": {
      "image/png": "[encoded data removed]",
      "text/plain": [
       "<Figure size 432x288 with 1 Axes>"
      ]
     },
     "metadata": {
      "needs_background": "light"
     },
     "output_type": "display_data"
    }
   ],
   "source": [
    "dataset.plot(kind='scatter',x='age',y='churn_risk_score',color='red')\n",
    "plt.show()"
   ]
  },
  {
   "cell_type": "code",
   "execution_count": 17,
   "metadata": {},
   "outputs": [
    {
     "data": {
      "image/png": "[encoded data removed]",
      "text/plain": [
       "<Figure size 432x288 with 1 Axes>"
      ]
     },
     "metadata": {
      "needs_background": "light"
     },
     "output_type": "display_data"
    }
   ],
   "source": [
    "dataset.plot(kind='scatter',x='days_since_last_login',y='churn_risk_score',color='red')\n",
    "plt.show()"
   ]
  },
  {
   "cell_type": "code",
   "execution_count": 18,
   "metadata": {},
   "outputs": [
    {
     "data": {
      "image/png": "[encoded data removed]",
      "text/plain": [
       "<Figure size 432x288 with 1 Axes>"
      ]
     },
     "metadata": {
      "needs_background": "light"
     },
     "output_type": "display_data"
    }
   ],
   "source": [
    "dataset.plot(kind='scatter',x='avg_time_spent',y='churn_risk_score',color='red')\n",
    "plt.show()"
   ]
  },
  {
   "cell_type": "code",
   "execution_count": 19,
   "metadata": {},
   "outputs": [
    {
     "data": {
      "text/plain": [
       "984.7043748662592"
      ]
     },
     "execution_count": 19,
     "metadata": {},
     "output_type": "execute_result"
    }
   ],
   "source": [
    "negative=dataset['avg_time_spent']\n",
    "negative[23206]"
   ]
  },
  {
   "cell_type": "code",
   "execution_count": 20,
   "metadata": {},
   "outputs": [
    {
     "data": {
      "text/plain": [
       "29444"
      ]
     },
     "execution_count": 20,
     "metadata": {},
     "output_type": "execute_result"
    }
   ],
   "source": [
    "negative.idxmin()"
   ]
  },
  {
   "cell_type": "code",
   "execution_count": 21,
   "metadata": {},
   "outputs": [
    {
     "data": {
      "text/html": [
       "<div>\n",
       "<style scoped>\n",
       "    .dataframe tbody tr th:only-of-type {\n",
       "        vertical-align: middle;\n",
       "    }\n",
       "\n",
       "    .dataframe tbody tr th {\n",
       "        vertical-align: top;\n",
       "    }\n",
       "\n",
       "    .dataframe thead th {\n",
       "        text-align: right;\n",
       "    }\n",
       "</style>\n",
       "<table border=\"1\" class=\"dataframe\">\n",
       "  <thead>\n",
       "    <tr style=\"text-align: right;\">\n",
       "      <th></th>\n",
       "      <th>age</th>\n",
       "      <th>gender</th>\n",
       "      <th>region_category</th>\n",
       "      <th>membership_category</th>\n",
       "      <th>joining_date</th>\n",
       "      <th>joined_through_referral</th>\n",
       "      <th>referral_id</th>\n",
       "      <th>preferred_offer_types</th>\n",
       "      <th>medium_of_operation</th>\n",
       "      <th>internet_option</th>\n",
       "      <th>...</th>\n",
       "      <th>avg_time_spent</th>\n",
       "      <th>avg_transaction_value</th>\n",
       "      <th>avg_frequency_login_days</th>\n",
       "      <th>points_in_wallet</th>\n",
       "      <th>used_special_discount</th>\n",
       "      <th>offer_application_preference</th>\n",
       "      <th>past_complaint</th>\n",
       "      <th>complaint_status</th>\n",
       "      <th>feedback</th>\n",
       "      <th>churn_risk_score</th>\n",
       "    </tr>\n",
       "  </thead>\n",
       "  <tbody>\n",
       "    <tr>\n",
       "      <th>0</th>\n",
       "      <td>61</td>\n",
       "      <td>M</td>\n",
       "      <td>City</td>\n",
       "      <td>Basic Membership</td>\n",
       "      <td>2015-01-01</td>\n",
       "      <td>No</td>\n",
       "      <td>xxxxxxxx</td>\n",
       "      <td>Gift Vouchers/Coupons</td>\n",
       "      <td>Smartphone</td>\n",
       "      <td>Mobile_Data</td>\n",
       "      <td>...</td>\n",
       "      <td>203.080000</td>\n",
       "      <td>21223.13</td>\n",
       "      <td>27.0</td>\n",
       "      <td>1092.62951</td>\n",
       "      <td>No</td>\n",
       "      <td>Yes</td>\n",
       "      <td>Yes</td>\n",
       "      <td>Solved</td>\n",
       "      <td>Too many ads</td>\n",
       "      <td>5</td>\n",
       "    </tr>\n",
       "    <tr>\n",
       "      <th>1</th>\n",
       "      <td>24</td>\n",
       "      <td>F</td>\n",
       "      <td>NaN</td>\n",
       "      <td>No Membership</td>\n",
       "      <td>2015-01-01</td>\n",
       "      <td>Yes</td>\n",
       "      <td>CID21317</td>\n",
       "      <td>Credit/Debit Card Offers</td>\n",
       "      <td>Desktop</td>\n",
       "      <td>Wi-Fi</td>\n",
       "      <td>...</td>\n",
       "      <td>151.380000</td>\n",
       "      <td>14447.79</td>\n",
       "      <td>21.0</td>\n",
       "      <td>524.27000</td>\n",
       "      <td>Yes</td>\n",
       "      <td>No</td>\n",
       "      <td>Yes</td>\n",
       "      <td>No Information Available</td>\n",
       "      <td>Poor Website</td>\n",
       "      <td>5</td>\n",
       "    </tr>\n",
       "    <tr>\n",
       "      <th>2</th>\n",
       "      <td>19</td>\n",
       "      <td>F</td>\n",
       "      <td>City</td>\n",
       "      <td>No Membership</td>\n",
       "      <td>2015-01-01</td>\n",
       "      <td>Yes</td>\n",
       "      <td>CID43428</td>\n",
       "      <td>Gift Vouchers/Coupons</td>\n",
       "      <td>Desktop</td>\n",
       "      <td>Mobile_Data</td>\n",
       "      <td>...</td>\n",
       "      <td>97.110000</td>\n",
       "      <td>46776.66</td>\n",
       "      <td>40.66717303389029</td>\n",
       "      <td>500.11000</td>\n",
       "      <td>Yes</td>\n",
       "      <td>No</td>\n",
       "      <td>Yes</td>\n",
       "      <td>Solved</td>\n",
       "      <td>Poor Website</td>\n",
       "      <td>5</td>\n",
       "    </tr>\n",
       "    <tr>\n",
       "      <th>3</th>\n",
       "      <td>13</td>\n",
       "      <td>M</td>\n",
       "      <td>City</td>\n",
       "      <td>Premium Membership</td>\n",
       "      <td>2015-01-01</td>\n",
       "      <td>No</td>\n",
       "      <td>xxxxxxxx</td>\n",
       "      <td>Without Offers</td>\n",
       "      <td>Desktop</td>\n",
       "      <td>Fiber_Optic</td>\n",
       "      <td>...</td>\n",
       "      <td>145.570000</td>\n",
       "      <td>12081.01</td>\n",
       "      <td>18.0</td>\n",
       "      <td>NaN</td>\n",
       "      <td>No</td>\n",
       "      <td>Yes</td>\n",
       "      <td>Yes</td>\n",
       "      <td>Unsolved</td>\n",
       "      <td>Poor Customer Service</td>\n",
       "      <td>3</td>\n",
       "    </tr>\n",
       "    <tr>\n",
       "      <th>4</th>\n",
       "      <td>60</td>\n",
       "      <td>F</td>\n",
       "      <td>City</td>\n",
       "      <td>No Membership</td>\n",
       "      <td>2015-01-01</td>\n",
       "      <td>?</td>\n",
       "      <td>CID56534</td>\n",
       "      <td>Without Offers</td>\n",
       "      <td>?</td>\n",
       "      <td>Mobile_Data</td>\n",
       "      <td>...</td>\n",
       "      <td>127.400000</td>\n",
       "      <td>11956.89</td>\n",
       "      <td>Error</td>\n",
       "      <td>685.35000</td>\n",
       "      <td>No</td>\n",
       "      <td>Yes</td>\n",
       "      <td>No</td>\n",
       "      <td>Not Applicable</td>\n",
       "      <td>Poor Customer Service</td>\n",
       "      <td>5</td>\n",
       "    </tr>\n",
       "    <tr>\n",
       "      <th>5</th>\n",
       "      <td>21</td>\n",
       "      <td>M</td>\n",
       "      <td>City</td>\n",
       "      <td>Silver Membership</td>\n",
       "      <td>2015-01-01</td>\n",
       "      <td>?</td>\n",
       "      <td>CID23523</td>\n",
       "      <td>Gift Vouchers/Coupons</td>\n",
       "      <td>Desktop</td>\n",
       "      <td>Wi-Fi</td>\n",
       "      <td>...</td>\n",
       "      <td>-725.678715</td>\n",
       "      <td>37817.64</td>\n",
       "      <td>18.0</td>\n",
       "      <td>693.41000</td>\n",
       "      <td>No</td>\n",
       "      <td>Yes</td>\n",
       "      <td>No</td>\n",
       "      <td>Not Applicable</td>\n",
       "      <td>Poor Website</td>\n",
       "      <td>4</td>\n",
       "    </tr>\n",
       "    <tr>\n",
       "      <th>6</th>\n",
       "      <td>46</td>\n",
       "      <td>M</td>\n",
       "      <td>City</td>\n",
       "      <td>Gold Membership</td>\n",
       "      <td>2015-01-01</td>\n",
       "      <td>No</td>\n",
       "      <td>xxxxxxxx</td>\n",
       "      <td>Without Offers</td>\n",
       "      <td>Desktop</td>\n",
       "      <td>Mobile_Data</td>\n",
       "      <td>...</td>\n",
       "      <td>120.590000</td>\n",
       "      <td>25398.64</td>\n",
       "      <td>12.0</td>\n",
       "      <td>NaN</td>\n",
       "      <td>No</td>\n",
       "      <td>Yes</td>\n",
       "      <td>Yes</td>\n",
       "      <td>Solved in Follow-up</td>\n",
       "      <td>Poor Product Quality</td>\n",
       "      <td>4</td>\n",
       "    </tr>\n",
       "    <tr>\n",
       "      <th>7</th>\n",
       "      <td>56</td>\n",
       "      <td>F</td>\n",
       "      <td>NaN</td>\n",
       "      <td>Silver Membership</td>\n",
       "      <td>2015-01-01</td>\n",
       "      <td>No</td>\n",
       "      <td>xxxxxxxx</td>\n",
       "      <td>Without Offers</td>\n",
       "      <td>Smartphone</td>\n",
       "      <td>Wi-Fi</td>\n",
       "      <td>...</td>\n",
       "      <td>-705.239984</td>\n",
       "      <td>41933.42</td>\n",
       "      <td>24.0</td>\n",
       "      <td>701.83000</td>\n",
       "      <td>Yes</td>\n",
       "      <td>No</td>\n",
       "      <td>Yes</td>\n",
       "      <td>No Information Available</td>\n",
       "      <td>Poor Product Quality</td>\n",
       "      <td>3</td>\n",
       "    </tr>\n",
       "    <tr>\n",
       "      <th>8</th>\n",
       "      <td>18</td>\n",
       "      <td>F</td>\n",
       "      <td>Town</td>\n",
       "      <td>Gold Membership</td>\n",
       "      <td>2015-01-01</td>\n",
       "      <td>?</td>\n",
       "      <td>CID43428</td>\n",
       "      <td>Credit/Debit Card Offers</td>\n",
       "      <td>?</td>\n",
       "      <td>Wi-Fi</td>\n",
       "      <td>...</td>\n",
       "      <td>555.850000</td>\n",
       "      <td>4763.05</td>\n",
       "      <td>11.0</td>\n",
       "      <td>702.35000</td>\n",
       "      <td>Yes</td>\n",
       "      <td>No</td>\n",
       "      <td>Yes</td>\n",
       "      <td>No Information Available</td>\n",
       "      <td>No reason specified</td>\n",
       "      <td>4</td>\n",
       "    </tr>\n",
       "    <tr>\n",
       "      <th>9</th>\n",
       "      <td>29</td>\n",
       "      <td>M</td>\n",
       "      <td>City</td>\n",
       "      <td>No Membership</td>\n",
       "      <td>2015-01-01</td>\n",
       "      <td>Yes</td>\n",
       "      <td>CID3979</td>\n",
       "      <td>Without Offers</td>\n",
       "      <td>Smartphone</td>\n",
       "      <td>Mobile_Data</td>\n",
       "      <td>...</td>\n",
       "      <td>138.130000</td>\n",
       "      <td>44571.99</td>\n",
       "      <td>22.0</td>\n",
       "      <td>NaN</td>\n",
       "      <td>No</td>\n",
       "      <td>Yes</td>\n",
       "      <td>Yes</td>\n",
       "      <td>Solved in Follow-up</td>\n",
       "      <td>Too many ads</td>\n",
       "      <td>5</td>\n",
       "    </tr>\n",
       "  </tbody>\n",
       "</table>\n",
       "<p>10 rows × 22 columns</p>\n",
       "</div>"
      ],
      "text/plain": [
       "   age gender region_category membership_category joining_date  \\\n",
       "0   61      M            City    Basic Membership   2015-01-01   \n",
       "1   24      F             NaN       No Membership   2015-01-01   \n",
       "2   19      F            City       No Membership   2015-01-01   \n",
       "3   13      M            City  Premium Membership   2015-01-01   \n",
       "4   60      F            City       No Membership   2015-01-01   \n",
       "5   21      M            City   Silver Membership   2015-01-01   \n",
       "6   46      M            City     Gold Membership   2015-01-01   \n",
       "7   56      F             NaN   Silver Membership   2015-01-01   \n",
       "8   18      F            Town     Gold Membership   2015-01-01   \n",
       "9   29      M            City       No Membership   2015-01-01   \n",
       "\n",
       "  joined_through_referral referral_id     preferred_offer_types  \\\n",
       "0                      No    xxxxxxxx     Gift Vouchers/Coupons   \n",
       "1                     Yes    CID21317  Credit/Debit Card Offers   \n",
       "2                     Yes    CID43428     Gift Vouchers/Coupons   \n",
       "3                      No    xxxxxxxx            Without Offers   \n",
       "4                       ?    CID56534            Without Offers   \n",
       "5                       ?    CID23523     Gift Vouchers/Coupons   \n",
       "6                      No    xxxxxxxx            Without Offers   \n",
       "7                      No    xxxxxxxx            Without Offers   \n",
       "8                       ?    CID43428  Credit/Debit Card Offers   \n",
       "9                     Yes     CID3979            Without Offers   \n",
       "\n",
       "  medium_of_operation internet_option  ... avg_time_spent  \\\n",
       "0          Smartphone     Mobile_Data  ...     203.080000   \n",
       "1             Desktop           Wi-Fi  ...     151.380000   \n",
       "2             Desktop     Mobile_Data  ...      97.110000   \n",
       "3             Desktop     Fiber_Optic  ...     145.570000   \n",
       "4                   ?     Mobile_Data  ...     127.400000   \n",
       "5             Desktop           Wi-Fi  ...    -725.678715   \n",
       "6             Desktop     Mobile_Data  ...     120.590000   \n",
       "7          Smartphone           Wi-Fi  ...    -705.239984   \n",
       "8                   ?           Wi-Fi  ...     555.850000   \n",
       "9          Smartphone     Mobile_Data  ...     138.130000   \n",
       "\n",
       "   avg_transaction_value  avg_frequency_login_days  points_in_wallet  \\\n",
       "0               21223.13                      27.0        1092.62951   \n",
       "1               14447.79                      21.0         524.27000   \n",
       "2               46776.66         40.66717303389029         500.11000   \n",
       "3               12081.01                      18.0               NaN   \n",
       "4               11956.89                     Error         685.35000   \n",
       "5               37817.64                      18.0         693.41000   \n",
       "6               25398.64                      12.0               NaN   \n",
       "7               41933.42                      24.0         701.83000   \n",
       "8                4763.05                      11.0         702.35000   \n",
       "9               44571.99                      22.0               NaN   \n",
       "\n",
       "  used_special_discount  offer_application_preference past_complaint  \\\n",
       "0                    No                           Yes            Yes   \n",
       "1                   Yes                            No            Yes   \n",
       "2                   Yes                            No            Yes   \n",
       "3                    No                           Yes            Yes   \n",
       "4                    No                           Yes             No   \n",
       "5                    No                           Yes             No   \n",
       "6                    No                           Yes            Yes   \n",
       "7                   Yes                            No            Yes   \n",
       "8                   Yes                            No            Yes   \n",
       "9                    No                           Yes            Yes   \n",
       "\n",
       "           complaint_status               feedback churn_risk_score  \n",
       "0                    Solved           Too many ads                5  \n",
       "1  No Information Available           Poor Website                5  \n",
       "2                    Solved           Poor Website                5  \n",
       "3                  Unsolved  Poor Customer Service                3  \n",
       "4            Not Applicable  Poor Customer Service                5  \n",
       "5            Not Applicable           Poor Website                4  \n",
       "6       Solved in Follow-up   Poor Product Quality                4  \n",
       "7  No Information Available   Poor Product Quality                3  \n",
       "8  No Information Available    No reason specified                4  \n",
       "9       Solved in Follow-up           Too many ads                5  \n",
       "\n",
       "[10 rows x 22 columns]"
      ]
     },
     "execution_count": 21,
     "metadata": {},
     "output_type": "execute_result"
    }
   ],
   "source": [
    "df=dataset\n",
    "\n",
    "df.head(10)"
   ]
  },
  {
   "cell_type": "code",
   "execution_count": 22,
   "metadata": {},
   "outputs": [
    {
     "data": {
      "text/plain": [
       "(36992, 22)"
      ]
     },
     "execution_count": 22,
     "metadata": {},
     "output_type": "execute_result"
    }
   ],
   "source": [
    "df.shape"
   ]
  },
  {
   "cell_type": "code",
   "execution_count": 23,
   "metadata": {},
   "outputs": [
    {
     "data": {
      "text/plain": [
       "0        203.08\n",
       "1        151.38\n",
       "2         97.11\n",
       "3        145.57\n",
       "4        127.40\n",
       "          ...  \n",
       "36987    487.74\n",
       "36988    168.60\n",
       "36989    950.26\n",
       "36990     72.80\n",
       "36991     31.10\n",
       "Name: avg_time_spent, Length: 35273, dtype: float64"
      ]
     },
     "execution_count": 23,
     "metadata": {},
     "output_type": "execute_result"
    }
   ],
   "source": [
    "df = df.dropna(how = 'all')\n",
    "  \n",
    "# Filter all rows for which the player's\n",
    "# age is greater than or equal to 25\n",
    "df.drop(df[df['avg_time_spent'] < 0].index, inplace = True)\n",
    "all_pos=df['avg_time_spent']\n",
    "all_pos"
   ]
  },
  {
   "cell_type": "code",
   "execution_count": 24,
   "metadata": {},
   "outputs": [
    {
     "data": {
      "image/png": "[encoded data removed]",
      "text/plain": [
       "<Figure size 432x288 with 1 Axes>"
      ]
     },
     "metadata": {
      "needs_background": "light"
     },
     "output_type": "display_data"
    }
   ],
   "source": [
    "df.plot(kind='scatter',x='avg_time_spent',y='churn_risk_score',color='red')\n",
    "plt.show()"
   ]
  },
  {
   "cell_type": "code",
   "execution_count": 25,
   "metadata": {},
   "outputs": [
    {
     "data": {
      "image/png": "[encoded data removed]",
      "text/plain": [
       "<Figure size 432x288 with 1 Axes>"
      ]
     },
     "metadata": {
      "needs_background": "light"
     },
     "output_type": "display_data"
    }
   ],
   "source": [
    "dataset.plot(kind='scatter',x='avg_transaction_value',y='churn_risk_score',color='red')\n",
    "plt.show()"
   ]
  },
  {
   "cell_type": "code",
   "execution_count": 26,
   "metadata": {},
   "outputs": [
    {
     "data": {
      "text/plain": [
       "<AxesSubplot:xlabel='churn_risk_score'>"
      ]
     },
     "execution_count": 26,
     "metadata": {},
     "output_type": "execute_result"
    },
    {
     "data": {
      "image/png": "[encoded data removed]",
      "text/plain": [
       "<Figure size 432x288 with 1 Axes>"
      ]
     },
     "metadata": {
      "needs_background": "light"
     },
     "output_type": "display_data"
    }
   ],
   "source": [
    "df.plot(kind='bar',x='churn_risk_score',y='avg_transaction_value')"
   ]
  },
  {
   "cell_type": "code",
   "execution_count": 27,
   "metadata": {},
   "outputs": [
    {
     "data": {
      "text/plain": [
       "<AxesSubplot:xlabel='churn_risk_score'>"
      ]
     },
     "execution_count": 27,
     "metadata": {},
     "output_type": "execute_result"
    },
    {
     "data": {
      "image/png": "[encoded data removed]",
      "text/plain": [
       "<Figure size 432x288 with 1 Axes>"
      ]
     },
     "metadata": {
      "needs_background": "light"
     },
     "output_type": "display_data"
    }
   ],
   "source": [
    "df.plot(kind='bar',x='churn_risk_score',y='avg_time_spent')"
   ]
  },
  {
   "cell_type": "code",
   "execution_count": 28,
   "metadata": {},
   "outputs": [
    {
     "data": {
      "text/plain": [
       "<AxesSubplot:xlabel='churn_risk_score'>"
      ]
     },
     "execution_count": 28,
     "metadata": {},
     "output_type": "execute_result"
    },
    {
     "data": {
      "image/png": "[encoded data removed]",
      "text/plain": [
       "<Figure size 432x288 with 1 Axes>"
      ]
     },
     "metadata": {
      "needs_background": "light"
     },
     "output_type": "display_data"
    }
   ],
   "source": [
    "df.plot(kind='bar',x='churn_risk_score',y='points_in_wallet')"
   ]
  },
  {
   "cell_type": "code",
   "execution_count": 29,
   "metadata": {},
   "outputs": [
    {
     "data": {
      "text/plain": [
       "<matplotlib.collections.PathCollection at 0x253f9642bc8>"
      ]
     },
     "execution_count": 29,
     "metadata": {},
     "output_type": "execute_result"
    },
    {
     "data": {
      "image/png": "[encoded data removed]",
      "text/plain": [
       "<Figure size 1440x720 with 1 Axes>"
      ]
     },
     "metadata": {
      "needs_background": "light"
     },
     "output_type": "display_data"
    }
   ],
   "source": [
    "plt.figure(figsize=(20,10))\n",
    "plt.scatter(df['membership_category'].values, df['churn_risk_score'])\n"
   ]
  },
  {
   "cell_type": "code",
   "execution_count": 30,
   "metadata": {},
   "outputs": [
    {
     "data": {
      "text/plain": [
       "age                                55\n",
       "gender                              3\n",
       "region_category                     3\n",
       "membership_category                 6\n",
       "joining_date                     1096\n",
       "joined_through_referral             3\n",
       "referral_id                     11053\n",
       "preferred_offer_types               3\n",
       "medium_of_operation                 4\n",
       "internet_option                     3\n",
       "last_visit_time                 28965\n",
       "days_since_last_login              27\n",
       "avg_time_spent                  24242\n",
       "avg_transaction_value           35180\n",
       "avg_frequency_login_days         1566\n",
       "points_in_wallet                22886\n",
       "used_special_discount               2\n",
       "offer_application_preference        2\n",
       "past_complaint                      2\n",
       "complaint_status                    5\n",
       "feedback                            9\n",
       "churn_risk_score                    6\n",
       "dtype: int64"
      ]
     },
     "execution_count": 30,
     "metadata": {},
     "output_type": "execute_result"
    }
   ],
   "source": [
    "df.nunique()"
   ]
  },
  {
   "cell_type": "code",
   "execution_count": 31,
   "metadata": {},
   "outputs": [
    {
     "data": {
      "text/plain": [
       "<matplotlib.collections.PathCollection at 0x253f9bdeb88>"
      ]
     },
     "execution_count": 31,
     "metadata": {},
     "output_type": "execute_result"
    },
    {
     "data": {
      "image/png": "[encoded data removed]",
      "text/plain": [
       "<Figure size 1440x720 with 1 Axes>"
      ]
     },
     "metadata": {
      "needs_background": "light"
     },
     "output_type": "display_data"
    }
   ],
   "source": [
    "plt.figure(figsize=(20,10))\n",
    "plt.scatter(df['joined_through_referral'].values, df['churn_risk_score'])\n"
   ]
  },
  {
   "cell_type": "code",
   "execution_count": 32,
   "metadata": {},
   "outputs": [
    {
     "data": {
      "text/plain": [
       "<matplotlib.collections.PathCollection at 0x253f9bdec08>"
      ]
     },
     "execution_count": 32,
     "metadata": {},
     "output_type": "execute_result"
    },
    {
     "data": {
      "image/png": "[encoded data removed]",
      "text/plain": [
       "<Figure size 1440x720 with 1 Axes>"
      ]
     },
     "metadata": {
      "needs_background": "light"
     },
     "output_type": "display_data"
    }
   ],
   "source": [
    "plt.figure(figsize=(20,10))\n",
    "plt.scatter(df['medium_of_operation'].values, df['churn_risk_score'])\n"
   ]
  },
  {
   "cell_type": "code",
   "execution_count": 33,
   "metadata": {},
   "outputs": [
    {
     "data": {
      "text/plain": [
       "<matplotlib.collections.PathCollection at 0x253f9f37888>"
      ]
     },
     "execution_count": 33,
     "metadata": {},
     "output_type": "execute_result"
    },
    {
     "data": {
      "image/png": "[encoded data removed]",
      "text/plain": [
       "<Figure size 1440x720 with 1 Axes>"
      ]
     },
     "metadata": {
      "needs_background": "light"
     },
     "output_type": "display_data"
    }
   ],
   "source": [
    "plt.figure(figsize=(20,10))\n",
    "plt.scatter(df['complaint_status'].values, df['churn_risk_score'])\n"
   ]
  },
  {
   "cell_type": "code",
   "execution_count": 34,
   "metadata": {},
   "outputs": [
    {
     "data": {
      "text/plain": [
       "<matplotlib.collections.PathCollection at 0x253fb61bdc8>"
      ]
     },
     "execution_count": 34,
     "metadata": {},
     "output_type": "execute_result"
    },
    {
     "data": {
      "image/png": "[encoded data removed]",
      "text/plain": [
       "<Figure size 1440x720 with 1 Axes>"
      ]
     },
     "metadata": {
      "needs_background": "light"
     },
     "output_type": "display_data"
    }
   ],
   "source": [
    "plt.figure(figsize=(20,10))\n",
    "plt.scatter(df['feedback'].values, df['churn_risk_score'])\n"
   ]
  },
  {
   "cell_type": "code",
   "execution_count": 35,
   "metadata": {},
   "outputs": [
    {
     "data": {
      "text/plain": [
       "<matplotlib.collections.PathCollection at 0x253fb61bd48>"
      ]
     },
     "execution_count": 35,
     "metadata": {},
     "output_type": "execute_result"
    },
    {
     "data": {
      "image/png": "[encoded data removed]",
      "text/plain": [
       "<Figure size 1440x720 with 1 Axes>"
      ]
     },
     "metadata": {
      "needs_background": "light"
     },
     "output_type": "display_data"
    }
   ],
   "source": [
    "plt.figure(figsize=(20,10))\n",
    "plt.scatter(df['used_special_discount'].values, df['churn_risk_score'])\n"
   ]
  },
  {
   "cell_type": "code",
   "execution_count": 36,
   "metadata": {},
   "outputs": [
    {
     "data": {
      "text/plain": [
       "<matplotlib.collections.PathCollection at 0x253fba25948>"
      ]
     },
     "execution_count": 36,
     "metadata": {},
     "output_type": "execute_result"
    },
    {
     "data": {
      "image/png": "[encoded data removed]",
      "text/plain": [
       "<Figure size 1440x720 with 1 Axes>"
      ]
     },
     "metadata": {
      "needs_background": "light"
     },
     "output_type": "display_data"
    }
   ],
   "source": [
    "plt.figure(figsize=(20,10))\n",
    "plt.scatter(df['offer_application_preference'].values, df['churn_risk_score'])"
   ]
  },
  {
   "cell_type": "code",
   "execution_count": 37,
   "metadata": {},
   "outputs": [
    {
     "data": {
      "text/plain": [
       "<matplotlib.collections.PathCollection at 0x253fbd5ac88>"
      ]
     },
     "execution_count": 37,
     "metadata": {},
     "output_type": "execute_result"
    },
    {
     "data": {
      "image/png": "[encoded data removed]",
      "text/plain": [
       "<Figure size 1440x720 with 1 Axes>"
      ]
     },
     "metadata": {
      "needs_background": "light"
     },
     "output_type": "display_data"
    }
   ],
   "source": [
    "plt.figure(figsize=(20,10))\n",
    "plt.scatter(df['past_complaint'].values, df['churn_risk_score'])"
   ]
  },
  {
   "cell_type": "code",
   "execution_count": 38,
   "metadata": {},
   "outputs": [],
   "source": [
    "df.drop(['past_complaint','offer_application_preference','used_special_discount','complaint_status','medium_of_operation','joined_through_referral'], axis = 1,inplace=True)\n"
   ]
  },
  {
   "cell_type": "code",
   "execution_count": 39,
   "metadata": {},
   "outputs": [
    {
     "name": "stdout",
     "output_type": "stream",
     "text": [
      "<class 'pandas.core.frame.DataFrame'>\n",
      "Int64Index: 35273 entries, 0 to 36991\n",
      "Data columns (total 16 columns):\n",
      " #   Column                    Non-Null Count  Dtype  \n",
      "---  ------                    --------------  -----  \n",
      " 0   age                       35273 non-null  int64  \n",
      " 1   gender                    35273 non-null  object \n",
      " 2   region_category           30084 non-null  object \n",
      " 3   membership_category       35273 non-null  object \n",
      " 4   joining_date              35273 non-null  object \n",
      " 5   referral_id               35273 non-null  object \n",
      " 6   preferred_offer_types     35000 non-null  object \n",
      " 7   internet_option           35273 non-null  object \n",
      " 8   last_visit_time           35273 non-null  object \n",
      " 9   days_since_last_login     35273 non-null  int64  \n",
      " 10  avg_time_spent            35273 non-null  float64\n",
      " 11  avg_transaction_value     35273 non-null  float64\n",
      " 12  avg_frequency_login_days  35273 non-null  object \n",
      " 13  points_in_wallet          31981 non-null  float64\n",
      " 14  feedback                  35273 non-null  object \n",
      " 15  churn_risk_score          35273 non-null  int64  \n",
      "dtypes: float64(3), int64(3), object(10)\n",
      "memory usage: 4.6+ MB\n"
     ]
    }
   ],
   "source": [
    "df.info()"
   ]
  },
  {
   "cell_type": "code",
   "execution_count": 40,
   "metadata": {},
   "outputs": [
    {
     "data": {
      "text/plain": [
       "(35273, 16)"
      ]
     },
     "execution_count": 40,
     "metadata": {},
     "output_type": "execute_result"
    }
   ],
   "source": [
    "df.shape"
   ]
  },
  {
   "cell_type": "code",
   "execution_count": 41,
   "metadata": {},
   "outputs": [
    {
     "data": {
      "text/plain": [
       "age                            55\n",
       "gender                          3\n",
       "region_category                 3\n",
       "membership_category             6\n",
       "joining_date                 1096\n",
       "referral_id                 11053\n",
       "preferred_offer_types           3\n",
       "internet_option                 3\n",
       "last_visit_time             28965\n",
       "days_since_last_login          27\n",
       "avg_time_spent              24242\n",
       "avg_transaction_value       35180\n",
       "avg_frequency_login_days     1566\n",
       "points_in_wallet            22886\n",
       "feedback                        9\n",
       "churn_risk_score                6\n",
       "dtype: int64"
      ]
     },
     "execution_count": 41,
     "metadata": {},
     "output_type": "execute_result"
    }
   ],
   "source": [
    "df.nunique()"
   ]
  },
  {
   "cell_type": "code",
   "execution_count": 42,
   "metadata": {},
   "outputs": [
    {
     "data": {
      "text/plain": [
       "<matplotlib.collections.PathCollection at 0x253fc422388>"
      ]
     },
     "execution_count": 42,
     "metadata": {},
     "output_type": "execute_result"
    },
    {
     "data": {
      "image/png": "[encoded data removed]",
      "text/plain": [
       "<Figure size 1440x720 with 1 Axes>"
      ]
     },
     "metadata": {
      "needs_background": "light"
     },
     "output_type": "display_data"
    }
   ],
   "source": [
    "plt.figure(figsize=(20,10))\n",
    "plt.scatter(df['gender'].values, df['churn_risk_score'])"
   ]
  },
  {
   "cell_type": "code",
   "execution_count": 43,
   "metadata": {},
   "outputs": [
    {
     "data": {
      "text/plain": [
       "<matplotlib.collections.PathCollection at 0x253fc422948>"
      ]
     },
     "execution_count": 43,
     "metadata": {},
     "output_type": "execute_result"
    },
    {
     "data": {
      "image/png": "[encoded data removed]",
      "text/plain": [
       "<Figure size 1440x720 with 1 Axes>"
      ]
     },
     "metadata": {
      "needs_background": "light"
     },
     "output_type": "display_data"
    }
   ],
   "source": [
    "plt.figure(figsize=(20,10))\n",
    "plt.scatter(df['gender'].values, df['churn_risk_score'])"
   ]
  },
  {
   "cell_type": "code",
   "execution_count": null,
   "metadata": {},
   "outputs": [],
   "source": []
  },
  {
   "cell_type": "code",
   "execution_count": 44,
   "metadata": {},
   "outputs": [
    {
     "data": {
      "text/plain": [
       "<matplotlib.collections.PathCollection at 0x253fc7753c8>"
      ]
     },
     "execution_count": 44,
     "metadata": {},
     "output_type": "execute_result"
    },
    {
     "data": {
      "image/png": "[encoded data removed]",
      "text/plain": [
       "<Figure size 1440x720 with 1 Axes>"
      ]
     },
     "metadata": {
      "needs_background": "light"
     },
     "output_type": "display_data"
    }
   ],
   "source": [
    "plt.figure(figsize=(20,10))\n",
    "plt.scatter(df['internet_option'].values, df['churn_risk_score'])"
   ]
  },
  {
   "cell_type": "code",
   "execution_count": 45,
   "metadata": {},
   "outputs": [],
   "source": [
    "df.drop(['gender','internet_option','region_category','preferred_offer_types'], axis = 1,inplace=True)\n"
   ]
  },
  {
   "cell_type": "code",
   "execution_count": 46,
   "metadata": {},
   "outputs": [
    {
     "data": {
      "text/html": [
       "<div>\n",
       "<style scoped>\n",
       "    .dataframe tbody tr th:only-of-type {\n",
       "        vertical-align: middle;\n",
       "    }\n",
       "\n",
       "    .dataframe tbody tr th {\n",
       "        vertical-align: top;\n",
       "    }\n",
       "\n",
       "    .dataframe thead th {\n",
       "        text-align: right;\n",
       "    }\n",
       "</style>\n",
       "<table border=\"1\" class=\"dataframe\">\n",
       "  <thead>\n",
       "    <tr style=\"text-align: right;\">\n",
       "      <th></th>\n",
       "      <th>age</th>\n",
       "      <th>membership_category</th>\n",
       "      <th>joining_date</th>\n",
       "      <th>referral_id</th>\n",
       "      <th>last_visit_time</th>\n",
       "      <th>days_since_last_login</th>\n",
       "      <th>avg_time_spent</th>\n",
       "      <th>avg_transaction_value</th>\n",
       "      <th>avg_frequency_login_days</th>\n",
       "      <th>points_in_wallet</th>\n",
       "      <th>feedback</th>\n",
       "      <th>churn_risk_score</th>\n",
       "    </tr>\n",
       "  </thead>\n",
       "  <tbody>\n",
       "    <tr>\n",
       "      <th>0</th>\n",
       "      <td>61</td>\n",
       "      <td>Basic Membership</td>\n",
       "      <td>2015-01-01</td>\n",
       "      <td>xxxxxxxx</td>\n",
       "      <td>22:43:32</td>\n",
       "      <td>24</td>\n",
       "      <td>203.08</td>\n",
       "      <td>21223.13</td>\n",
       "      <td>27.0</td>\n",
       "      <td>1092.62951</td>\n",
       "      <td>Too many ads</td>\n",
       "      <td>5</td>\n",
       "    </tr>\n",
       "    <tr>\n",
       "      <th>1</th>\n",
       "      <td>24</td>\n",
       "      <td>No Membership</td>\n",
       "      <td>2015-01-01</td>\n",
       "      <td>CID21317</td>\n",
       "      <td>09:26:35</td>\n",
       "      <td>15</td>\n",
       "      <td>151.38</td>\n",
       "      <td>14447.79</td>\n",
       "      <td>21.0</td>\n",
       "      <td>524.27000</td>\n",
       "      <td>Poor Website</td>\n",
       "      <td>5</td>\n",
       "    </tr>\n",
       "    <tr>\n",
       "      <th>2</th>\n",
       "      <td>19</td>\n",
       "      <td>No Membership</td>\n",
       "      <td>2015-01-01</td>\n",
       "      <td>CID43428</td>\n",
       "      <td>18:10:16</td>\n",
       "      <td>2</td>\n",
       "      <td>97.11</td>\n",
       "      <td>46776.66</td>\n",
       "      <td>40.66717303389029</td>\n",
       "      <td>500.11000</td>\n",
       "      <td>Poor Website</td>\n",
       "      <td>5</td>\n",
       "    </tr>\n",
       "    <tr>\n",
       "      <th>3</th>\n",
       "      <td>13</td>\n",
       "      <td>Premium Membership</td>\n",
       "      <td>2015-01-01</td>\n",
       "      <td>xxxxxxxx</td>\n",
       "      <td>17:35:08</td>\n",
       "      <td>20</td>\n",
       "      <td>145.57</td>\n",
       "      <td>12081.01</td>\n",
       "      <td>18.0</td>\n",
       "      <td>NaN</td>\n",
       "      <td>Poor Customer Service</td>\n",
       "      <td>3</td>\n",
       "    </tr>\n",
       "    <tr>\n",
       "      <th>4</th>\n",
       "      <td>60</td>\n",
       "      <td>No Membership</td>\n",
       "      <td>2015-01-01</td>\n",
       "      <td>CID56534</td>\n",
       "      <td>03:17:20</td>\n",
       "      <td>14</td>\n",
       "      <td>127.40</td>\n",
       "      <td>11956.89</td>\n",
       "      <td>Error</td>\n",
       "      <td>685.35000</td>\n",
       "      <td>Poor Customer Service</td>\n",
       "      <td>5</td>\n",
       "    </tr>\n",
       "  </tbody>\n",
       "</table>\n",
       "</div>"
      ],
      "text/plain": [
       "   age membership_category joining_date referral_id last_visit_time  \\\n",
       "0   61    Basic Membership   2015-01-01    xxxxxxxx        22:43:32   \n",
       "1   24       No Membership   2015-01-01    CID21317        09:26:35   \n",
       "2   19       No Membership   2015-01-01    CID43428        18:10:16   \n",
       "3   13  Premium Membership   2015-01-01    xxxxxxxx        17:35:08   \n",
       "4   60       No Membership   2015-01-01    CID56534        03:17:20   \n",
       "\n",
       "   days_since_last_login  avg_time_spent  avg_transaction_value  \\\n",
       "0                     24          203.08               21223.13   \n",
       "1                     15          151.38               14447.79   \n",
       "2                      2           97.11               46776.66   \n",
       "3                     20          145.57               12081.01   \n",
       "4                     14          127.40               11956.89   \n",
       "\n",
       "  avg_frequency_login_days  points_in_wallet               feedback  \\\n",
       "0                     27.0        1092.62951           Too many ads   \n",
       "1                     21.0         524.27000           Poor Website   \n",
       "2        40.66717303389029         500.11000           Poor Website   \n",
       "3                     18.0               NaN  Poor Customer Service   \n",
       "4                    Error         685.35000  Poor Customer Service   \n",
       "\n",
       "   churn_risk_score  \n",
       "0                 5  \n",
       "1                 5  \n",
       "2                 5  \n",
       "3                 3  \n",
       "4                 5  "
      ]
     },
     "execution_count": 46,
     "metadata": {},
     "output_type": "execute_result"
    }
   ],
   "source": [
    "df.head(5)"
   ]
  },
  {
   "cell_type": "code",
   "execution_count": 47,
   "metadata": {},
   "outputs": [
    {
     "data": {
      "text/plain": [
       "age                            55\n",
       "membership_category             6\n",
       "joining_date                 1096\n",
       "referral_id                 11053\n",
       "last_visit_time             28965\n",
       "days_since_last_login          27\n",
       "avg_time_spent              24242\n",
       "avg_transaction_value       35180\n",
       "avg_frequency_login_days     1566\n",
       "points_in_wallet            22886\n",
       "feedback                        9\n",
       "churn_risk_score                6\n",
       "dtype: int64"
      ]
     },
     "execution_count": 47,
     "metadata": {},
     "output_type": "execute_result"
    }
   ],
   "source": [
    "df.nunique()"
   ]
  },
  {
   "cell_type": "code",
   "execution_count": 48,
   "metadata": {},
   "outputs": [
    {
     "data": {
      "text/plain": [
       "age                           int64\n",
       "membership_category          object\n",
       "joining_date                 object\n",
       "referral_id                  object\n",
       "last_visit_time              object\n",
       "days_since_last_login         int64\n",
       "avg_time_spent              float64\n",
       "avg_transaction_value       float64\n",
       "avg_frequency_login_days     object\n",
       "points_in_wallet            float64\n",
       "feedback                     object\n",
       "churn_risk_score              int64\n",
       "dtype: object"
      ]
     },
     "execution_count": 48,
     "metadata": {},
     "output_type": "execute_result"
    }
   ],
   "source": [
    "df.dtypes"
   ]
  },
  {
   "cell_type": "code",
   "execution_count": 49,
   "metadata": {},
   "outputs": [],
   "source": [
    "df.drop(['avg_transaction_value'], axis = 1,inplace=True)\n"
   ]
  },
  {
   "cell_type": "code",
   "execution_count": 50,
   "metadata": {},
   "outputs": [
    {
     "data": {
      "text/html": [
       "<div>\n",
       "<style scoped>\n",
       "    .dataframe tbody tr th:only-of-type {\n",
       "        vertical-align: middle;\n",
       "    }\n",
       "\n",
       "    .dataframe tbody tr th {\n",
       "        vertical-align: top;\n",
       "    }\n",
       "\n",
       "    .dataframe thead th {\n",
       "        text-align: right;\n",
       "    }\n",
       "</style>\n",
       "<table border=\"1\" class=\"dataframe\">\n",
       "  <thead>\n",
       "    <tr style=\"text-align: right;\">\n",
       "      <th></th>\n",
       "      <th>age</th>\n",
       "      <th>membership_category</th>\n",
       "      <th>joining_date</th>\n",
       "      <th>referral_id</th>\n",
       "      <th>last_visit_time</th>\n",
       "      <th>days_since_last_login</th>\n",
       "      <th>avg_time_spent</th>\n",
       "      <th>avg_frequency_login_days</th>\n",
       "      <th>points_in_wallet</th>\n",
       "      <th>feedback</th>\n",
       "      <th>churn_risk_score</th>\n",
       "    </tr>\n",
       "  </thead>\n",
       "  <tbody>\n",
       "    <tr>\n",
       "      <th>0</th>\n",
       "      <td>61</td>\n",
       "      <td>Basic Membership</td>\n",
       "      <td>2015-01-01</td>\n",
       "      <td>xxxxxxxx</td>\n",
       "      <td>22:43:32</td>\n",
       "      <td>24</td>\n",
       "      <td>203.08</td>\n",
       "      <td>27.0</td>\n",
       "      <td>1092.62951</td>\n",
       "      <td>Too many ads</td>\n",
       "      <td>5</td>\n",
       "    </tr>\n",
       "    <tr>\n",
       "      <th>1</th>\n",
       "      <td>24</td>\n",
       "      <td>No Membership</td>\n",
       "      <td>2015-01-01</td>\n",
       "      <td>CID21317</td>\n",
       "      <td>09:26:35</td>\n",
       "      <td>15</td>\n",
       "      <td>151.38</td>\n",
       "      <td>21.0</td>\n",
       "      <td>524.27000</td>\n",
       "      <td>Poor Website</td>\n",
       "      <td>5</td>\n",
       "    </tr>\n",
       "    <tr>\n",
       "      <th>2</th>\n",
       "      <td>19</td>\n",
       "      <td>No Membership</td>\n",
       "      <td>2015-01-01</td>\n",
       "      <td>CID43428</td>\n",
       "      <td>18:10:16</td>\n",
       "      <td>2</td>\n",
       "      <td>97.11</td>\n",
       "      <td>40.66717303389029</td>\n",
       "      <td>500.11000</td>\n",
       "      <td>Poor Website</td>\n",
       "      <td>5</td>\n",
       "    </tr>\n",
       "    <tr>\n",
       "      <th>3</th>\n",
       "      <td>13</td>\n",
       "      <td>Premium Membership</td>\n",
       "      <td>2015-01-01</td>\n",
       "      <td>xxxxxxxx</td>\n",
       "      <td>17:35:08</td>\n",
       "      <td>20</td>\n",
       "      <td>145.57</td>\n",
       "      <td>18.0</td>\n",
       "      <td>NaN</td>\n",
       "      <td>Poor Customer Service</td>\n",
       "      <td>3</td>\n",
       "    </tr>\n",
       "    <tr>\n",
       "      <th>4</th>\n",
       "      <td>60</td>\n",
       "      <td>No Membership</td>\n",
       "      <td>2015-01-01</td>\n",
       "      <td>CID56534</td>\n",
       "      <td>03:17:20</td>\n",
       "      <td>14</td>\n",
       "      <td>127.40</td>\n",
       "      <td>Error</td>\n",
       "      <td>685.35000</td>\n",
       "      <td>Poor Customer Service</td>\n",
       "      <td>5</td>\n",
       "    </tr>\n",
       "  </tbody>\n",
       "</table>\n",
       "</div>"
      ],
      "text/plain": [
       "   age membership_category joining_date referral_id last_visit_time  \\\n",
       "0   61    Basic Membership   2015-01-01    xxxxxxxx        22:43:32   \n",
       "1   24       No Membership   2015-01-01    CID21317        09:26:35   \n",
       "2   19       No Membership   2015-01-01    CID43428        18:10:16   \n",
       "3   13  Premium Membership   2015-01-01    xxxxxxxx        17:35:08   \n",
       "4   60       No Membership   2015-01-01    CID56534        03:17:20   \n",
       "\n",
       "   days_since_last_login  avg_time_spent avg_frequency_login_days  \\\n",
       "0                     24          203.08                     27.0   \n",
       "1                     15          151.38                     21.0   \n",
       "2                      2           97.11        40.66717303389029   \n",
       "3                     20          145.57                     18.0   \n",
       "4                     14          127.40                    Error   \n",
       "\n",
       "   points_in_wallet               feedback  churn_risk_score  \n",
       "0        1092.62951           Too many ads                 5  \n",
       "1         524.27000           Poor Website                 5  \n",
       "2         500.11000           Poor Website                 5  \n",
       "3               NaN  Poor Customer Service                 3  \n",
       "4         685.35000  Poor Customer Service                 5  "
      ]
     },
     "execution_count": 50,
     "metadata": {},
     "output_type": "execute_result"
    }
   ],
   "source": [
    "df.head()"
   ]
  },
  {
   "cell_type": "code",
   "execution_count": 51,
   "metadata": {},
   "outputs": [],
   "source": [
    "df['joining_date'] = pd.to_datetime(df.joining_date, format='%Y-%m-%d')"
   ]
  },
  {
   "cell_type": "code",
   "execution_count": 52,
   "metadata": {},
   "outputs": [],
   "source": [
    "df['WEEKDAY'] = np.where(((df['joining_date']).dt.dayofweek) < 5,0,1)"
   ]
  },
  {
   "cell_type": "code",
   "execution_count": 53,
   "metadata": {},
   "outputs": [
    {
     "data": {
      "text/html": [
       "<div>\n",
       "<style scoped>\n",
       "    .dataframe tbody tr th:only-of-type {\n",
       "        vertical-align: middle;\n",
       "    }\n",
       "\n",
       "    .dataframe tbody tr th {\n",
       "        vertical-align: top;\n",
       "    }\n",
       "\n",
       "    .dataframe thead th {\n",
       "        text-align: right;\n",
       "    }\n",
       "</style>\n",
       "<table border=\"1\" class=\"dataframe\">\n",
       "  <thead>\n",
       "    <tr style=\"text-align: right;\">\n",
       "      <th></th>\n",
       "      <th>age</th>\n",
       "      <th>membership_category</th>\n",
       "      <th>joining_date</th>\n",
       "      <th>referral_id</th>\n",
       "      <th>last_visit_time</th>\n",
       "      <th>days_since_last_login</th>\n",
       "      <th>avg_time_spent</th>\n",
       "      <th>avg_frequency_login_days</th>\n",
       "      <th>points_in_wallet</th>\n",
       "      <th>feedback</th>\n",
       "      <th>churn_risk_score</th>\n",
       "      <th>WEEKDAY</th>\n",
       "    </tr>\n",
       "  </thead>\n",
       "  <tbody>\n",
       "    <tr>\n",
       "      <th>0</th>\n",
       "      <td>61</td>\n",
       "      <td>Basic Membership</td>\n",
       "      <td>2015-01-01</td>\n",
       "      <td>xxxxxxxx</td>\n",
       "      <td>22:43:32</td>\n",
       "      <td>24</td>\n",
       "      <td>203.08</td>\n",
       "      <td>27.0</td>\n",
       "      <td>1092.62951</td>\n",
       "      <td>Too many ads</td>\n",
       "      <td>5</td>\n",
       "      <td>0</td>\n",
       "    </tr>\n",
       "    <tr>\n",
       "      <th>1</th>\n",
       "      <td>24</td>\n",
       "      <td>No Membership</td>\n",
       "      <td>2015-01-01</td>\n",
       "      <td>CID21317</td>\n",
       "      <td>09:26:35</td>\n",
       "      <td>15</td>\n",
       "      <td>151.38</td>\n",
       "      <td>21.0</td>\n",
       "      <td>524.27000</td>\n",
       "      <td>Poor Website</td>\n",
       "      <td>5</td>\n",
       "      <td>0</td>\n",
       "    </tr>\n",
       "    <tr>\n",
       "      <th>2</th>\n",
       "      <td>19</td>\n",
       "      <td>No Membership</td>\n",
       "      <td>2015-01-01</td>\n",
       "      <td>CID43428</td>\n",
       "      <td>18:10:16</td>\n",
       "      <td>2</td>\n",
       "      <td>97.11</td>\n",
       "      <td>40.66717303389029</td>\n",
       "      <td>500.11000</td>\n",
       "      <td>Poor Website</td>\n",
       "      <td>5</td>\n",
       "      <td>0</td>\n",
       "    </tr>\n",
       "    <tr>\n",
       "      <th>3</th>\n",
       "      <td>13</td>\n",
       "      <td>Premium Membership</td>\n",
       "      <td>2015-01-01</td>\n",
       "      <td>xxxxxxxx</td>\n",
       "      <td>17:35:08</td>\n",
       "      <td>20</td>\n",
       "      <td>145.57</td>\n",
       "      <td>18.0</td>\n",
       "      <td>NaN</td>\n",
       "      <td>Poor Customer Service</td>\n",
       "      <td>3</td>\n",
       "      <td>0</td>\n",
       "    </tr>\n",
       "    <tr>\n",
       "      <th>4</th>\n",
       "      <td>60</td>\n",
       "      <td>No Membership</td>\n",
       "      <td>2015-01-01</td>\n",
       "      <td>CID56534</td>\n",
       "      <td>03:17:20</td>\n",
       "      <td>14</td>\n",
       "      <td>127.40</td>\n",
       "      <td>Error</td>\n",
       "      <td>685.35000</td>\n",
       "      <td>Poor Customer Service</td>\n",
       "      <td>5</td>\n",
       "      <td>0</td>\n",
       "    </tr>\n",
       "  </tbody>\n",
       "</table>\n",
       "</div>"
      ],
      "text/plain": [
       "   age membership_category joining_date referral_id last_visit_time  \\\n",
       "0   61    Basic Membership   2015-01-01    xxxxxxxx        22:43:32   \n",
       "1   24       No Membership   2015-01-01    CID21317        09:26:35   \n",
       "2   19       No Membership   2015-01-01    CID43428        18:10:16   \n",
       "3   13  Premium Membership   2015-01-01    xxxxxxxx        17:35:08   \n",
       "4   60       No Membership   2015-01-01    CID56534        03:17:20   \n",
       "\n",
       "   days_since_last_login  avg_time_spent avg_frequency_login_days  \\\n",
       "0                     24          203.08                     27.0   \n",
       "1                     15          151.38                     21.0   \n",
       "2                      2           97.11        40.66717303389029   \n",
       "3                     20          145.57                     18.0   \n",
       "4                     14          127.40                    Error   \n",
       "\n",
       "   points_in_wallet               feedback  churn_risk_score  WEEKDAY  \n",
       "0        1092.62951           Too many ads                 5        0  \n",
       "1         524.27000           Poor Website                 5        0  \n",
       "2         500.11000           Poor Website                 5        0  \n",
       "3               NaN  Poor Customer Service                 3        0  \n",
       "4         685.35000  Poor Customer Service                 5        0  "
      ]
     },
     "execution_count": 53,
     "metadata": {},
     "output_type": "execute_result"
    }
   ],
   "source": [
    "df.head()"
   ]
  },
  {
   "cell_type": "code",
   "execution_count": 54,
   "metadata": {},
   "outputs": [
    {
     "data": {
      "text/plain": [
       "<matplotlib.collections.PathCollection at 0x253fce64dc8>"
      ]
     },
     "execution_count": 54,
     "metadata": {},
     "output_type": "execute_result"
    },
    {
     "data": {
      "image/png": "[encoded data removed]",
      "text/plain": [
       "<Figure size 1440x720 with 1 Axes>"
      ]
     },
     "metadata": {
      "needs_background": "light"
     },
     "output_type": "display_data"
    }
   ],
   "source": [
    "plt.figure(figsize=(20,10))\n",
    "plt.scatter(df['WEEKDAY'].values, df['churn_risk_score'])"
   ]
  },
  {
   "cell_type": "code",
   "execution_count": 55,
   "metadata": {},
   "outputs": [],
   "source": [
    "df.drop(['WEEKDAY'], axis = 1,inplace=True)\n"
   ]
  },
  {
   "cell_type": "code",
   "execution_count": 56,
   "metadata": {},
   "outputs": [
    {
     "data": {
      "text/html": [
       "<div>\n",
       "<style scoped>\n",
       "    .dataframe tbody tr th:only-of-type {\n",
       "        vertical-align: middle;\n",
       "    }\n",
       "\n",
       "    .dataframe tbody tr th {\n",
       "        vertical-align: top;\n",
       "    }\n",
       "\n",
       "    .dataframe thead th {\n",
       "        text-align: right;\n",
       "    }\n",
       "</style>\n",
       "<table border=\"1\" class=\"dataframe\">\n",
       "  <thead>\n",
       "    <tr style=\"text-align: right;\">\n",
       "      <th></th>\n",
       "      <th>age</th>\n",
       "      <th>membership_category</th>\n",
       "      <th>joining_date</th>\n",
       "      <th>referral_id</th>\n",
       "      <th>last_visit_time</th>\n",
       "      <th>days_since_last_login</th>\n",
       "      <th>avg_time_spent</th>\n",
       "      <th>avg_frequency_login_days</th>\n",
       "      <th>points_in_wallet</th>\n",
       "      <th>feedback</th>\n",
       "      <th>churn_risk_score</th>\n",
       "    </tr>\n",
       "  </thead>\n",
       "  <tbody>\n",
       "    <tr>\n",
       "      <th>0</th>\n",
       "      <td>61</td>\n",
       "      <td>Basic Membership</td>\n",
       "      <td>2015-01-01</td>\n",
       "      <td>xxxxxxxx</td>\n",
       "      <td>22:43:32</td>\n",
       "      <td>24</td>\n",
       "      <td>203.08</td>\n",
       "      <td>27.0</td>\n",
       "      <td>1092.62951</td>\n",
       "      <td>Too many ads</td>\n",
       "      <td>5</td>\n",
       "    </tr>\n",
       "    <tr>\n",
       "      <th>1</th>\n",
       "      <td>24</td>\n",
       "      <td>No Membership</td>\n",
       "      <td>2015-01-01</td>\n",
       "      <td>CID21317</td>\n",
       "      <td>09:26:35</td>\n",
       "      <td>15</td>\n",
       "      <td>151.38</td>\n",
       "      <td>21.0</td>\n",
       "      <td>524.27000</td>\n",
       "      <td>Poor Website</td>\n",
       "      <td>5</td>\n",
       "    </tr>\n",
       "    <tr>\n",
       "      <th>2</th>\n",
       "      <td>19</td>\n",
       "      <td>No Membership</td>\n",
       "      <td>2015-01-01</td>\n",
       "      <td>CID43428</td>\n",
       "      <td>18:10:16</td>\n",
       "      <td>2</td>\n",
       "      <td>97.11</td>\n",
       "      <td>40.66717303389029</td>\n",
       "      <td>500.11000</td>\n",
       "      <td>Poor Website</td>\n",
       "      <td>5</td>\n",
       "    </tr>\n",
       "    <tr>\n",
       "      <th>3</th>\n",
       "      <td>13</td>\n",
       "      <td>Premium Membership</td>\n",
       "      <td>2015-01-01</td>\n",
       "      <td>xxxxxxxx</td>\n",
       "      <td>17:35:08</td>\n",
       "      <td>20</td>\n",
       "      <td>145.57</td>\n",
       "      <td>18.0</td>\n",
       "      <td>NaN</td>\n",
       "      <td>Poor Customer Service</td>\n",
       "      <td>3</td>\n",
       "    </tr>\n",
       "    <tr>\n",
       "      <th>4</th>\n",
       "      <td>60</td>\n",
       "      <td>No Membership</td>\n",
       "      <td>2015-01-01</td>\n",
       "      <td>CID56534</td>\n",
       "      <td>03:17:20</td>\n",
       "      <td>14</td>\n",
       "      <td>127.40</td>\n",
       "      <td>Error</td>\n",
       "      <td>685.35000</td>\n",
       "      <td>Poor Customer Service</td>\n",
       "      <td>5</td>\n",
       "    </tr>\n",
       "  </tbody>\n",
       "</table>\n",
       "</div>"
      ],
      "text/plain": [
       "   age membership_category joining_date referral_id last_visit_time  \\\n",
       "0   61    Basic Membership   2015-01-01    xxxxxxxx        22:43:32   \n",
       "1   24       No Membership   2015-01-01    CID21317        09:26:35   \n",
       "2   19       No Membership   2015-01-01    CID43428        18:10:16   \n",
       "3   13  Premium Membership   2015-01-01    xxxxxxxx        17:35:08   \n",
       "4   60       No Membership   2015-01-01    CID56534        03:17:20   \n",
       "\n",
       "   days_since_last_login  avg_time_spent avg_frequency_login_days  \\\n",
       "0                     24          203.08                     27.0   \n",
       "1                     15          151.38                     21.0   \n",
       "2                      2           97.11        40.66717303389029   \n",
       "3                     20          145.57                     18.0   \n",
       "4                     14          127.40                    Error   \n",
       "\n",
       "   points_in_wallet               feedback  churn_risk_score  \n",
       "0        1092.62951           Too many ads                 5  \n",
       "1         524.27000           Poor Website                 5  \n",
       "2         500.11000           Poor Website                 5  \n",
       "3               NaN  Poor Customer Service                 3  \n",
       "4         685.35000  Poor Customer Service                 5  "
      ]
     },
     "execution_count": 56,
     "metadata": {},
     "output_type": "execute_result"
    }
   ],
   "source": [
    "df.head()"
   ]
  },
  {
   "cell_type": "code",
   "execution_count": 57,
   "metadata": {},
   "outputs": [],
   "source": [
    "df.drop(['last_visit_time'],axis = 1,inplace=True)"
   ]
  },
  {
   "cell_type": "code",
   "execution_count": 58,
   "metadata": {},
   "outputs": [
    {
     "data": {
      "text/html": [
       "<div>\n",
       "<style scoped>\n",
       "    .dataframe tbody tr th:only-of-type {\n",
       "        vertical-align: middle;\n",
       "    }\n",
       "\n",
       "    .dataframe tbody tr th {\n",
       "        vertical-align: top;\n",
       "    }\n",
       "\n",
       "    .dataframe thead th {\n",
       "        text-align: right;\n",
       "    }\n",
       "</style>\n",
       "<table border=\"1\" class=\"dataframe\">\n",
       "  <thead>\n",
       "    <tr style=\"text-align: right;\">\n",
       "      <th></th>\n",
       "      <th>age</th>\n",
       "      <th>membership_category</th>\n",
       "      <th>joining_date</th>\n",
       "      <th>referral_id</th>\n",
       "      <th>days_since_last_login</th>\n",
       "      <th>avg_time_spent</th>\n",
       "      <th>avg_frequency_login_days</th>\n",
       "      <th>points_in_wallet</th>\n",
       "      <th>feedback</th>\n",
       "      <th>churn_risk_score</th>\n",
       "    </tr>\n",
       "  </thead>\n",
       "  <tbody>\n",
       "    <tr>\n",
       "      <th>0</th>\n",
       "      <td>61</td>\n",
       "      <td>Basic Membership</td>\n",
       "      <td>2015-01-01</td>\n",
       "      <td>xxxxxxxx</td>\n",
       "      <td>24</td>\n",
       "      <td>203.08</td>\n",
       "      <td>27.0</td>\n",
       "      <td>1092.62951</td>\n",
       "      <td>Too many ads</td>\n",
       "      <td>5</td>\n",
       "    </tr>\n",
       "    <tr>\n",
       "      <th>1</th>\n",
       "      <td>24</td>\n",
       "      <td>No Membership</td>\n",
       "      <td>2015-01-01</td>\n",
       "      <td>CID21317</td>\n",
       "      <td>15</td>\n",
       "      <td>151.38</td>\n",
       "      <td>21.0</td>\n",
       "      <td>524.27000</td>\n",
       "      <td>Poor Website</td>\n",
       "      <td>5</td>\n",
       "    </tr>\n",
       "    <tr>\n",
       "      <th>2</th>\n",
       "      <td>19</td>\n",
       "      <td>No Membership</td>\n",
       "      <td>2015-01-01</td>\n",
       "      <td>CID43428</td>\n",
       "      <td>2</td>\n",
       "      <td>97.11</td>\n",
       "      <td>40.66717303389029</td>\n",
       "      <td>500.11000</td>\n",
       "      <td>Poor Website</td>\n",
       "      <td>5</td>\n",
       "    </tr>\n",
       "    <tr>\n",
       "      <th>3</th>\n",
       "      <td>13</td>\n",
       "      <td>Premium Membership</td>\n",
       "      <td>2015-01-01</td>\n",
       "      <td>xxxxxxxx</td>\n",
       "      <td>20</td>\n",
       "      <td>145.57</td>\n",
       "      <td>18.0</td>\n",
       "      <td>NaN</td>\n",
       "      <td>Poor Customer Service</td>\n",
       "      <td>3</td>\n",
       "    </tr>\n",
       "    <tr>\n",
       "      <th>4</th>\n",
       "      <td>60</td>\n",
       "      <td>No Membership</td>\n",
       "      <td>2015-01-01</td>\n",
       "      <td>CID56534</td>\n",
       "      <td>14</td>\n",
       "      <td>127.40</td>\n",
       "      <td>Error</td>\n",
       "      <td>685.35000</td>\n",
       "      <td>Poor Customer Service</td>\n",
       "      <td>5</td>\n",
       "    </tr>\n",
       "  </tbody>\n",
       "</table>\n",
       "</div>"
      ],
      "text/plain": [
       "   age membership_category joining_date referral_id  days_since_last_login  \\\n",
       "0   61    Basic Membership   2015-01-01    xxxxxxxx                     24   \n",
       "1   24       No Membership   2015-01-01    CID21317                     15   \n",
       "2   19       No Membership   2015-01-01    CID43428                      2   \n",
       "3   13  Premium Membership   2015-01-01    xxxxxxxx                     20   \n",
       "4   60       No Membership   2015-01-01    CID56534                     14   \n",
       "\n",
       "   avg_time_spent avg_frequency_login_days  points_in_wallet  \\\n",
       "0          203.08                     27.0        1092.62951   \n",
       "1          151.38                     21.0         524.27000   \n",
       "2           97.11        40.66717303389029         500.11000   \n",
       "3          145.57                     18.0               NaN   \n",
       "4          127.40                    Error         685.35000   \n",
       "\n",
       "                feedback  churn_risk_score  \n",
       "0           Too many ads                 5  \n",
       "1           Poor Website                 5  \n",
       "2           Poor Website                 5  \n",
       "3  Poor Customer Service                 3  \n",
       "4  Poor Customer Service                 5  "
      ]
     },
     "execution_count": 58,
     "metadata": {},
     "output_type": "execute_result"
    }
   ],
   "source": [
    "df.head()"
   ]
  },
  {
   "cell_type": "code",
   "execution_count": 59,
   "metadata": {},
   "outputs": [
    {
     "data": {
      "text/plain": [
       "age                                  int64\n",
       "membership_category               category\n",
       "joining_date                datetime64[ns]\n",
       "referral_id                         object\n",
       "days_since_last_login                int64\n",
       "avg_time_spent                     float64\n",
       "avg_frequency_login_days            object\n",
       "points_in_wallet                   float64\n",
       "feedback                            object\n",
       "churn_risk_score                     int64\n",
       "dtype: object"
      ]
     },
     "execution_count": 59,
     "metadata": {},
     "output_type": "execute_result"
    }
   ],
   "source": [
    "df[\"membership_category\"] = df[\"membership_category\"].astype('category')\n",
    "df.dtypes"
   ]
  },
  {
   "cell_type": "code",
   "execution_count": 60,
   "metadata": {},
   "outputs": [
    {
     "data": {
      "text/plain": [
       "age                                  int64\n",
       "membership_category               category\n",
       "joining_date                datetime64[ns]\n",
       "referral_id                         object\n",
       "days_since_last_login                int64\n",
       "avg_time_spent                     float64\n",
       "avg_frequency_login_days            object\n",
       "points_in_wallet                   float64\n",
       "feedback                          category\n",
       "churn_risk_score                     int64\n",
       "dtype: object"
      ]
     },
     "execution_count": 60,
     "metadata": {},
     "output_type": "execute_result"
    }
   ],
   "source": [
    "df[\"feedback\"] = df[\"feedback\"].astype('category')\n",
    "df.dtypes"
   ]
  },
  {
   "cell_type": "code",
   "execution_count": 61,
   "metadata": {},
   "outputs": [
    {
     "data": {
      "text/plain": [
       "age                                  int64\n",
       "membership_category               category\n",
       "joining_date                datetime64[ns]\n",
       "referral_id                       category\n",
       "days_since_last_login                int64\n",
       "avg_time_spent                     float64\n",
       "avg_frequency_login_days            object\n",
       "points_in_wallet                   float64\n",
       "feedback                          category\n",
       "churn_risk_score                     int64\n",
       "dtype: object"
      ]
     },
     "execution_count": 61,
     "metadata": {},
     "output_type": "execute_result"
    }
   ],
   "source": [
    "df[\"referral_id\"] = df[\"referral_id\"].astype('category')\n",
    "df.dtypes"
   ]
  },
  {
   "cell_type": "code",
   "execution_count": 62,
   "metadata": {},
   "outputs": [
    {
     "data": {
      "text/plain": [
       "age                                  int64\n",
       "membership_category               category\n",
       "joining_date                datetime64[ns]\n",
       "referral_id                       category\n",
       "days_since_last_login                int64\n",
       "avg_time_spent                     float64\n",
       "avg_frequency_login_days          category\n",
       "points_in_wallet                   float64\n",
       "feedback                          category\n",
       "churn_risk_score                     int64\n",
       "dtype: object"
      ]
     },
     "execution_count": 62,
     "metadata": {},
     "output_type": "execute_result"
    }
   ],
   "source": [
    "df[\"avg_frequency_login_days\"] = df[\"avg_frequency_login_days\"].astype('category')\n",
    "df.dtypes"
   ]
  },
  {
   "cell_type": "code",
   "execution_count": 63,
   "metadata": {},
   "outputs": [
    {
     "data": {
      "text/html": [
       "<div>\n",
       "<style scoped>\n",
       "    .dataframe tbody tr th:only-of-type {\n",
       "        vertical-align: middle;\n",
       "    }\n",
       "\n",
       "    .dataframe tbody tr th {\n",
       "        vertical-align: top;\n",
       "    }\n",
       "\n",
       "    .dataframe thead th {\n",
       "        text-align: right;\n",
       "    }\n",
       "</style>\n",
       "<table border=\"1\" class=\"dataframe\">\n",
       "  <thead>\n",
       "    <tr style=\"text-align: right;\">\n",
       "      <th></th>\n",
       "      <th>age</th>\n",
       "      <th>membership_category</th>\n",
       "      <th>joining_date</th>\n",
       "      <th>referral_id</th>\n",
       "      <th>days_since_last_login</th>\n",
       "      <th>avg_time_spent</th>\n",
       "      <th>avg_frequency_login_days</th>\n",
       "      <th>points_in_wallet</th>\n",
       "      <th>feedback</th>\n",
       "      <th>churn_risk_score</th>\n",
       "    </tr>\n",
       "  </thead>\n",
       "  <tbody>\n",
       "    <tr>\n",
       "      <th>0</th>\n",
       "      <td>61</td>\n",
       "      <td>0</td>\n",
       "      <td>2015-01-01</td>\n",
       "      <td>xxxxxxxx</td>\n",
       "      <td>24</td>\n",
       "      <td>203.08</td>\n",
       "      <td>27.0</td>\n",
       "      <td>1092.62951</td>\n",
       "      <td>Too many ads</td>\n",
       "      <td>5</td>\n",
       "    </tr>\n",
       "    <tr>\n",
       "      <th>1</th>\n",
       "      <td>24</td>\n",
       "      <td>2</td>\n",
       "      <td>2015-01-01</td>\n",
       "      <td>CID21317</td>\n",
       "      <td>15</td>\n",
       "      <td>151.38</td>\n",
       "      <td>21.0</td>\n",
       "      <td>524.27000</td>\n",
       "      <td>Poor Website</td>\n",
       "      <td>5</td>\n",
       "    </tr>\n",
       "    <tr>\n",
       "      <th>2</th>\n",
       "      <td>19</td>\n",
       "      <td>2</td>\n",
       "      <td>2015-01-01</td>\n",
       "      <td>CID43428</td>\n",
       "      <td>2</td>\n",
       "      <td>97.11</td>\n",
       "      <td>40.66717303389029</td>\n",
       "      <td>500.11000</td>\n",
       "      <td>Poor Website</td>\n",
       "      <td>5</td>\n",
       "    </tr>\n",
       "    <tr>\n",
       "      <th>3</th>\n",
       "      <td>13</td>\n",
       "      <td>4</td>\n",
       "      <td>2015-01-01</td>\n",
       "      <td>xxxxxxxx</td>\n",
       "      <td>20</td>\n",
       "      <td>145.57</td>\n",
       "      <td>18.0</td>\n",
       "      <td>NaN</td>\n",
       "      <td>Poor Customer Service</td>\n",
       "      <td>3</td>\n",
       "    </tr>\n",
       "    <tr>\n",
       "      <th>4</th>\n",
       "      <td>60</td>\n",
       "      <td>2</td>\n",
       "      <td>2015-01-01</td>\n",
       "      <td>CID56534</td>\n",
       "      <td>14</td>\n",
       "      <td>127.40</td>\n",
       "      <td>Error</td>\n",
       "      <td>685.35000</td>\n",
       "      <td>Poor Customer Service</td>\n",
       "      <td>5</td>\n",
       "    </tr>\n",
       "  </tbody>\n",
       "</table>\n",
       "</div>"
      ],
      "text/plain": [
       "   age  membership_category joining_date referral_id  days_since_last_login  \\\n",
       "0   61                    0   2015-01-01    xxxxxxxx                     24   \n",
       "1   24                    2   2015-01-01    CID21317                     15   \n",
       "2   19                    2   2015-01-01    CID43428                      2   \n",
       "3   13                    4   2015-01-01    xxxxxxxx                     20   \n",
       "4   60                    2   2015-01-01    CID56534                     14   \n",
       "\n",
       "   avg_time_spent avg_frequency_login_days  points_in_wallet  \\\n",
       "0          203.08                     27.0        1092.62951   \n",
       "1          151.38                     21.0         524.27000   \n",
       "2           97.11        40.66717303389029         500.11000   \n",
       "3          145.57                     18.0               NaN   \n",
       "4          127.40                    Error         685.35000   \n",
       "\n",
       "                feedback  churn_risk_score  \n",
       "0           Too many ads                 5  \n",
       "1           Poor Website                 5  \n",
       "2           Poor Website                 5  \n",
       "3  Poor Customer Service                 3  \n",
       "4  Poor Customer Service                 5  "
      ]
     },
     "execution_count": 63,
     "metadata": {},
     "output_type": "execute_result"
    }
   ],
   "source": [
    "df[\"membership_category\"] = df[\"membership_category\"].cat.codes\n",
    "df.head()"
   ]
  },
  {
   "cell_type": "code",
   "execution_count": 64,
   "metadata": {},
   "outputs": [
    {
     "data": {
      "text/html": [
       "<div>\n",
       "<style scoped>\n",
       "    .dataframe tbody tr th:only-of-type {\n",
       "        vertical-align: middle;\n",
       "    }\n",
       "\n",
       "    .dataframe tbody tr th {\n",
       "        vertical-align: top;\n",
       "    }\n",
       "\n",
       "    .dataframe thead th {\n",
       "        text-align: right;\n",
       "    }\n",
       "</style>\n",
       "<table border=\"1\" class=\"dataframe\">\n",
       "  <thead>\n",
       "    <tr style=\"text-align: right;\">\n",
       "      <th></th>\n",
       "      <th>age</th>\n",
       "      <th>membership_category</th>\n",
       "      <th>joining_date</th>\n",
       "      <th>referral_id</th>\n",
       "      <th>days_since_last_login</th>\n",
       "      <th>avg_time_spent</th>\n",
       "      <th>avg_frequency_login_days</th>\n",
       "      <th>points_in_wallet</th>\n",
       "      <th>feedback</th>\n",
       "      <th>churn_risk_score</th>\n",
       "    </tr>\n",
       "  </thead>\n",
       "  <tbody>\n",
       "    <tr>\n",
       "      <th>0</th>\n",
       "      <td>61</td>\n",
       "      <td>0</td>\n",
       "      <td>2015-01-01</td>\n",
       "      <td>11052</td>\n",
       "      <td>24</td>\n",
       "      <td>203.08</td>\n",
       "      <td>27.0</td>\n",
       "      <td>1092.62951</td>\n",
       "      <td>Too many ads</td>\n",
       "      <td>5</td>\n",
       "    </tr>\n",
       "    <tr>\n",
       "      <th>1</th>\n",
       "      <td>24</td>\n",
       "      <td>2</td>\n",
       "      <td>2015-01-01</td>\n",
       "      <td>2169</td>\n",
       "      <td>15</td>\n",
       "      <td>151.38</td>\n",
       "      <td>21.0</td>\n",
       "      <td>524.27000</td>\n",
       "      <td>Poor Website</td>\n",
       "      <td>5</td>\n",
       "    </tr>\n",
       "    <tr>\n",
       "      <th>2</th>\n",
       "      <td>19</td>\n",
       "      <td>2</td>\n",
       "      <td>2015-01-01</td>\n",
       "      <td>6405</td>\n",
       "      <td>2</td>\n",
       "      <td>97.11</td>\n",
       "      <td>40.66717303389029</td>\n",
       "      <td>500.11000</td>\n",
       "      <td>Poor Website</td>\n",
       "      <td>5</td>\n",
       "    </tr>\n",
       "    <tr>\n",
       "      <th>3</th>\n",
       "      <td>13</td>\n",
       "      <td>4</td>\n",
       "      <td>2015-01-01</td>\n",
       "      <td>11052</td>\n",
       "      <td>20</td>\n",
       "      <td>145.57</td>\n",
       "      <td>18.0</td>\n",
       "      <td>NaN</td>\n",
       "      <td>Poor Customer Service</td>\n",
       "      <td>3</td>\n",
       "    </tr>\n",
       "    <tr>\n",
       "      <th>4</th>\n",
       "      <td>60</td>\n",
       "      <td>2</td>\n",
       "      <td>2015-01-01</td>\n",
       "      <td>8900</td>\n",
       "      <td>14</td>\n",
       "      <td>127.40</td>\n",
       "      <td>Error</td>\n",
       "      <td>685.35000</td>\n",
       "      <td>Poor Customer Service</td>\n",
       "      <td>5</td>\n",
       "    </tr>\n",
       "  </tbody>\n",
       "</table>\n",
       "</div>"
      ],
      "text/plain": [
       "   age  membership_category joining_date  referral_id  days_since_last_login  \\\n",
       "0   61                    0   2015-01-01        11052                     24   \n",
       "1   24                    2   2015-01-01         2169                     15   \n",
       "2   19                    2   2015-01-01         6405                      2   \n",
       "3   13                    4   2015-01-01        11052                     20   \n",
       "4   60                    2   2015-01-01         8900                     14   \n",
       "\n",
       "   avg_time_spent avg_frequency_login_days  points_in_wallet  \\\n",
       "0          203.08                     27.0        1092.62951   \n",
       "1          151.38                     21.0         524.27000   \n",
       "2           97.11        40.66717303389029         500.11000   \n",
       "3          145.57                     18.0               NaN   \n",
       "4          127.40                    Error         685.35000   \n",
       "\n",
       "                feedback  churn_risk_score  \n",
       "0           Too many ads                 5  \n",
       "1           Poor Website                 5  \n",
       "2           Poor Website                 5  \n",
       "3  Poor Customer Service                 3  \n",
       "4  Poor Customer Service                 5  "
      ]
     },
     "execution_count": 64,
     "metadata": {},
     "output_type": "execute_result"
    }
   ],
   "source": [
    "df[\"referral_id\"] = df[\"referral_id\"].cat.codes\n",
    "df.head()"
   ]
  },
  {
   "cell_type": "code",
   "execution_count": 65,
   "metadata": {},
   "outputs": [
    {
     "data": {
      "text/html": [
       "<div>\n",
       "<style scoped>\n",
       "    .dataframe tbody tr th:only-of-type {\n",
       "        vertical-align: middle;\n",
       "    }\n",
       "\n",
       "    .dataframe tbody tr th {\n",
       "        vertical-align: top;\n",
       "    }\n",
       "\n",
       "    .dataframe thead th {\n",
       "        text-align: right;\n",
       "    }\n",
       "</style>\n",
       "<table border=\"1\" class=\"dataframe\">\n",
       "  <thead>\n",
       "    <tr style=\"text-align: right;\">\n",
       "      <th></th>\n",
       "      <th>age</th>\n",
       "      <th>membership_category</th>\n",
       "      <th>joining_date</th>\n",
       "      <th>referral_id</th>\n",
       "      <th>days_since_last_login</th>\n",
       "      <th>avg_time_spent</th>\n",
       "      <th>avg_frequency_login_days</th>\n",
       "      <th>points_in_wallet</th>\n",
       "      <th>feedback</th>\n",
       "      <th>churn_risk_score</th>\n",
       "    </tr>\n",
       "  </thead>\n",
       "  <tbody>\n",
       "    <tr>\n",
       "      <th>0</th>\n",
       "      <td>61</td>\n",
       "      <td>0</td>\n",
       "      <td>2015-01-01</td>\n",
       "      <td>11052</td>\n",
       "      <td>24</td>\n",
       "      <td>203.08</td>\n",
       "      <td>750</td>\n",
       "      <td>1092.62951</td>\n",
       "      <td>Too many ads</td>\n",
       "      <td>5</td>\n",
       "    </tr>\n",
       "    <tr>\n",
       "      <th>1</th>\n",
       "      <td>24</td>\n",
       "      <td>2</td>\n",
       "      <td>2015-01-01</td>\n",
       "      <td>2169</td>\n",
       "      <td>15</td>\n",
       "      <td>151.38</td>\n",
       "      <td>727</td>\n",
       "      <td>524.27000</td>\n",
       "      <td>Poor Website</td>\n",
       "      <td>5</td>\n",
       "    </tr>\n",
       "    <tr>\n",
       "      <th>2</th>\n",
       "      <td>19</td>\n",
       "      <td>2</td>\n",
       "      <td>2015-01-01</td>\n",
       "      <td>6405</td>\n",
       "      <td>2</td>\n",
       "      <td>97.11</td>\n",
       "      <td>1173</td>\n",
       "      <td>500.11000</td>\n",
       "      <td>Poor Website</td>\n",
       "      <td>5</td>\n",
       "    </tr>\n",
       "    <tr>\n",
       "      <th>3</th>\n",
       "      <td>13</td>\n",
       "      <td>4</td>\n",
       "      <td>2015-01-01</td>\n",
       "      <td>11052</td>\n",
       "      <td>20</td>\n",
       "      <td>145.57</td>\n",
       "      <td>701</td>\n",
       "      <td>NaN</td>\n",
       "      <td>Poor Customer Service</td>\n",
       "      <td>3</td>\n",
       "    </tr>\n",
       "    <tr>\n",
       "      <th>4</th>\n",
       "      <td>60</td>\n",
       "      <td>2</td>\n",
       "      <td>2015-01-01</td>\n",
       "      <td>8900</td>\n",
       "      <td>14</td>\n",
       "      <td>127.40</td>\n",
       "      <td>1565</td>\n",
       "      <td>685.35000</td>\n",
       "      <td>Poor Customer Service</td>\n",
       "      <td>5</td>\n",
       "    </tr>\n",
       "  </tbody>\n",
       "</table>\n",
       "</div>"
      ],
      "text/plain": [
       "   age  membership_category joining_date  referral_id  days_since_last_login  \\\n",
       "0   61                    0   2015-01-01        11052                     24   \n",
       "1   24                    2   2015-01-01         2169                     15   \n",
       "2   19                    2   2015-01-01         6405                      2   \n",
       "3   13                    4   2015-01-01        11052                     20   \n",
       "4   60                    2   2015-01-01         8900                     14   \n",
       "\n",
       "   avg_time_spent  avg_frequency_login_days  points_in_wallet  \\\n",
       "0          203.08                       750        1092.62951   \n",
       "1          151.38                       727         524.27000   \n",
       "2           97.11                      1173         500.11000   \n",
       "3          145.57                       701               NaN   \n",
       "4          127.40                      1565         685.35000   \n",
       "\n",
       "                feedback  churn_risk_score  \n",
       "0           Too many ads                 5  \n",
       "1           Poor Website                 5  \n",
       "2           Poor Website                 5  \n",
       "3  Poor Customer Service                 3  \n",
       "4  Poor Customer Service                 5  "
      ]
     },
     "execution_count": 65,
     "metadata": {},
     "output_type": "execute_result"
    }
   ],
   "source": [
    "df[\"avg_frequency_login_days\"] = df[\"avg_frequency_login_days\"].cat.codes\n",
    "df.head()"
   ]
  },
  {
   "cell_type": "code",
   "execution_count": 66,
   "metadata": {},
   "outputs": [
    {
     "data": {
      "text/html": [
       "<div>\n",
       "<style scoped>\n",
       "    .dataframe tbody tr th:only-of-type {\n",
       "        vertical-align: middle;\n",
       "    }\n",
       "\n",
       "    .dataframe tbody tr th {\n",
       "        vertical-align: top;\n",
       "    }\n",
       "\n",
       "    .dataframe thead th {\n",
       "        text-align: right;\n",
       "    }\n",
       "</style>\n",
       "<table border=\"1\" class=\"dataframe\">\n",
       "  <thead>\n",
       "    <tr style=\"text-align: right;\">\n",
       "      <th></th>\n",
       "      <th>age</th>\n",
       "      <th>membership_category</th>\n",
       "      <th>joining_date</th>\n",
       "      <th>referral_id</th>\n",
       "      <th>days_since_last_login</th>\n",
       "      <th>avg_time_spent</th>\n",
       "      <th>avg_frequency_login_days</th>\n",
       "      <th>points_in_wallet</th>\n",
       "      <th>feedback</th>\n",
       "      <th>churn_risk_score</th>\n",
       "    </tr>\n",
       "  </thead>\n",
       "  <tbody>\n",
       "    <tr>\n",
       "      <th>0</th>\n",
       "      <td>61</td>\n",
       "      <td>0</td>\n",
       "      <td>2015-01-01</td>\n",
       "      <td>11052</td>\n",
       "      <td>24</td>\n",
       "      <td>203.08</td>\n",
       "      <td>750</td>\n",
       "      <td>1092.62951</td>\n",
       "      <td>7</td>\n",
       "      <td>5</td>\n",
       "    </tr>\n",
       "    <tr>\n",
       "      <th>1</th>\n",
       "      <td>24</td>\n",
       "      <td>2</td>\n",
       "      <td>2015-01-01</td>\n",
       "      <td>2169</td>\n",
       "      <td>15</td>\n",
       "      <td>151.38</td>\n",
       "      <td>727</td>\n",
       "      <td>524.27000</td>\n",
       "      <td>3</td>\n",
       "      <td>5</td>\n",
       "    </tr>\n",
       "    <tr>\n",
       "      <th>2</th>\n",
       "      <td>19</td>\n",
       "      <td>2</td>\n",
       "      <td>2015-01-01</td>\n",
       "      <td>6405</td>\n",
       "      <td>2</td>\n",
       "      <td>97.11</td>\n",
       "      <td>1173</td>\n",
       "      <td>500.11000</td>\n",
       "      <td>3</td>\n",
       "      <td>5</td>\n",
       "    </tr>\n",
       "    <tr>\n",
       "      <th>3</th>\n",
       "      <td>13</td>\n",
       "      <td>4</td>\n",
       "      <td>2015-01-01</td>\n",
       "      <td>11052</td>\n",
       "      <td>20</td>\n",
       "      <td>145.57</td>\n",
       "      <td>701</td>\n",
       "      <td>NaN</td>\n",
       "      <td>1</td>\n",
       "      <td>3</td>\n",
       "    </tr>\n",
       "    <tr>\n",
       "      <th>4</th>\n",
       "      <td>60</td>\n",
       "      <td>2</td>\n",
       "      <td>2015-01-01</td>\n",
       "      <td>8900</td>\n",
       "      <td>14</td>\n",
       "      <td>127.40</td>\n",
       "      <td>1565</td>\n",
       "      <td>685.35000</td>\n",
       "      <td>1</td>\n",
       "      <td>5</td>\n",
       "    </tr>\n",
       "  </tbody>\n",
       "</table>\n",
       "</div>"
      ],
      "text/plain": [
       "   age  membership_category joining_date  referral_id  days_since_last_login  \\\n",
       "0   61                    0   2015-01-01        11052                     24   \n",
       "1   24                    2   2015-01-01         2169                     15   \n",
       "2   19                    2   2015-01-01         6405                      2   \n",
       "3   13                    4   2015-01-01        11052                     20   \n",
       "4   60                    2   2015-01-01         8900                     14   \n",
       "\n",
       "   avg_time_spent  avg_frequency_login_days  points_in_wallet  feedback  \\\n",
       "0          203.08                       750        1092.62951         7   \n",
       "1          151.38                       727         524.27000         3   \n",
       "2           97.11                      1173         500.11000         3   \n",
       "3          145.57                       701               NaN         1   \n",
       "4          127.40                      1565         685.35000         1   \n",
       "\n",
       "   churn_risk_score  \n",
       "0                 5  \n",
       "1                 5  \n",
       "2                 5  \n",
       "3                 3  \n",
       "4                 5  "
      ]
     },
     "execution_count": 66,
     "metadata": {},
     "output_type": "execute_result"
    }
   ],
   "source": [
    "df[\"feedback\"] = df[\"feedback\"].cat.codes\n",
    "df.head()"
   ]
  },
  {
   "cell_type": "code",
   "execution_count": 67,
   "metadata": {},
   "outputs": [
    {
     "data": {
      "text/plain": [
       "age                            0\n",
       "membership_category            0\n",
       "joining_date                   0\n",
       "referral_id                    0\n",
       "days_since_last_login          0\n",
       "avg_time_spent                 0\n",
       "avg_frequency_login_days       0\n",
       "points_in_wallet            3292\n",
       "feedback                       0\n",
       "churn_risk_score               0\n",
       "dtype: int64"
      ]
     },
     "execution_count": 67,
     "metadata": {},
     "output_type": "execute_result"
    }
   ],
   "source": [
    "df.isnull().sum()"
   ]
  },
  {
   "cell_type": "code",
   "execution_count": 68,
   "metadata": {},
   "outputs": [],
   "source": [
    "df[\"points_in_wallet\"] = df[\"points_in_wallet\"].fillna(df[\"points_in_wallet\"].mean())"
   ]
  },
  {
   "cell_type": "code",
   "execution_count": 69,
   "metadata": {},
   "outputs": [],
   "source": [
    "x1=df[['age','membership_category','joining_date','referral_id','days_since_last_login','avg_time_spent','avg_frequency_login_days','points_in_wallet','points_in_wallet','feedback','churn_risk_score']]"
   ]
  },
  {
   "cell_type": "code",
   "execution_count": null,
   "metadata": {},
   "outputs": [],
   "source": []
  },
  {
   "cell_type": "code",
   "execution_count": 70,
   "metadata": {},
   "outputs": [],
   "source": [
    "x_test=pd.read_csv(r'test.csv')"
   ]
  },
  {
   "cell_type": "code",
   "execution_count": 71,
   "metadata": {},
   "outputs": [],
   "source": [
    "x_test1=x_test[['age','membership_category','referral_id','days_since_last_login','avg_time_spent','avg_frequency_login_days','points_in_wallet','feedback']]"
   ]
  },
  {
   "cell_type": "code",
   "execution_count": 72,
   "metadata": {},
   "outputs": [
    {
     "data": {
      "text/html": [
       "<div>\n",
       "<style scoped>\n",
       "    .dataframe tbody tr th:only-of-type {\n",
       "        vertical-align: middle;\n",
       "    }\n",
       "\n",
       "    .dataframe tbody tr th {\n",
       "        vertical-align: top;\n",
       "    }\n",
       "\n",
       "    .dataframe thead th {\n",
       "        text-align: right;\n",
       "    }\n",
       "</style>\n",
       "<table border=\"1\" class=\"dataframe\">\n",
       "  <thead>\n",
       "    <tr style=\"text-align: right;\">\n",
       "      <th></th>\n",
       "      <th>age</th>\n",
       "      <th>membership_category</th>\n",
       "      <th>referral_id</th>\n",
       "      <th>days_since_last_login</th>\n",
       "      <th>avg_time_spent</th>\n",
       "      <th>avg_frequency_login_days</th>\n",
       "      <th>points_in_wallet</th>\n",
       "      <th>feedback</th>\n",
       "    </tr>\n",
       "  </thead>\n",
       "  <tbody>\n",
       "    <tr>\n",
       "      <th>0</th>\n",
       "      <td>50</td>\n",
       "      <td>Premium Membership</td>\n",
       "      <td>xxxxxxxx</td>\n",
       "      <td>12</td>\n",
       "      <td>386.26</td>\n",
       "      <td>7.0</td>\n",
       "      <td>733.830000</td>\n",
       "      <td>Poor Product Quality</td>\n",
       "    </tr>\n",
       "    <tr>\n",
       "      <th>1</th>\n",
       "      <td>41</td>\n",
       "      <td>Gold Membership</td>\n",
       "      <td>xxxxxxxx</td>\n",
       "      <td>11</td>\n",
       "      <td>37.80</td>\n",
       "      <td>9.0</td>\n",
       "      <td>726.000000</td>\n",
       "      <td>Poor Website</td>\n",
       "    </tr>\n",
       "    <tr>\n",
       "      <th>2</th>\n",
       "      <td>31</td>\n",
       "      <td>Silver Membership</td>\n",
       "      <td>xxxxxxxx</td>\n",
       "      <td>18</td>\n",
       "      <td>215.36</td>\n",
       "      <td>21.0</td>\n",
       "      <td>713.780000</td>\n",
       "      <td>No reason specified</td>\n",
       "    </tr>\n",
       "    <tr>\n",
       "      <th>3</th>\n",
       "      <td>64</td>\n",
       "      <td>Silver Membership</td>\n",
       "      <td>CID8941</td>\n",
       "      <td>-999</td>\n",
       "      <td>44.57</td>\n",
       "      <td>11.0</td>\n",
       "      <td>744.970000</td>\n",
       "      <td>Too many ads</td>\n",
       "    </tr>\n",
       "    <tr>\n",
       "      <th>4</th>\n",
       "      <td>16</td>\n",
       "      <td>No Membership</td>\n",
       "      <td>CID5690</td>\n",
       "      <td>6</td>\n",
       "      <td>349.88</td>\n",
       "      <td>8.0</td>\n",
       "      <td>299.048351</td>\n",
       "      <td>Poor Website</td>\n",
       "    </tr>\n",
       "  </tbody>\n",
       "</table>\n",
       "</div>"
      ],
      "text/plain": [
       "   age membership_category referral_id  days_since_last_login  avg_time_spent  \\\n",
       "0   50  Premium Membership    xxxxxxxx                     12          386.26   \n",
       "1   41     Gold Membership    xxxxxxxx                     11           37.80   \n",
       "2   31   Silver Membership    xxxxxxxx                     18          215.36   \n",
       "3   64   Silver Membership     CID8941                   -999           44.57   \n",
       "4   16       No Membership     CID5690                      6          349.88   \n",
       "\n",
       "  avg_frequency_login_days  points_in_wallet              feedback  \n",
       "0                      7.0        733.830000  Poor Product Quality  \n",
       "1                      9.0        726.000000          Poor Website  \n",
       "2                     21.0        713.780000   No reason specified  \n",
       "3                     11.0        744.970000          Too many ads  \n",
       "4                      8.0        299.048351          Poor Website  "
      ]
     },
     "execution_count": 72,
     "metadata": {},
     "output_type": "execute_result"
    }
   ],
   "source": [
    "x_test1.head()"
   ]
  },
  {
   "cell_type": "code",
   "execution_count": 73,
   "metadata": {},
   "outputs": [
    {
     "data": {
      "text/html": [
       "<div>\n",
       "<style scoped>\n",
       "    .dataframe tbody tr th:only-of-type {\n",
       "        vertical-align: middle;\n",
       "    }\n",
       "\n",
       "    .dataframe tbody tr th {\n",
       "        vertical-align: top;\n",
       "    }\n",
       "\n",
       "    .dataframe thead th {\n",
       "        text-align: right;\n",
       "    }\n",
       "</style>\n",
       "<table border=\"1\" class=\"dataframe\">\n",
       "  <thead>\n",
       "    <tr style=\"text-align: right;\">\n",
       "      <th></th>\n",
       "      <th>age</th>\n",
       "      <th>membership_category</th>\n",
       "      <th>referral_id</th>\n",
       "      <th>days_since_last_login</th>\n",
       "      <th>avg_time_spent</th>\n",
       "      <th>avg_frequency_login_days</th>\n",
       "      <th>points_in_wallet</th>\n",
       "      <th>feedback</th>\n",
       "    </tr>\n",
       "  </thead>\n",
       "  <tbody>\n",
       "    <tr>\n",
       "      <th>0</th>\n",
       "      <td>50</td>\n",
       "      <td>Premium Membership</td>\n",
       "      <td>xxxxxxxx</td>\n",
       "      <td>12</td>\n",
       "      <td>386.26</td>\n",
       "      <td>7.0</td>\n",
       "      <td>733.830000</td>\n",
       "      <td>Poor Product Quality</td>\n",
       "    </tr>\n",
       "    <tr>\n",
       "      <th>1</th>\n",
       "      <td>41</td>\n",
       "      <td>Gold Membership</td>\n",
       "      <td>xxxxxxxx</td>\n",
       "      <td>11</td>\n",
       "      <td>37.80</td>\n",
       "      <td>9.0</td>\n",
       "      <td>726.000000</td>\n",
       "      <td>Poor Website</td>\n",
       "    </tr>\n",
       "    <tr>\n",
       "      <th>2</th>\n",
       "      <td>31</td>\n",
       "      <td>Silver Membership</td>\n",
       "      <td>xxxxxxxx</td>\n",
       "      <td>18</td>\n",
       "      <td>215.36</td>\n",
       "      <td>21.0</td>\n",
       "      <td>713.780000</td>\n",
       "      <td>No reason specified</td>\n",
       "    </tr>\n",
       "    <tr>\n",
       "      <th>3</th>\n",
       "      <td>64</td>\n",
       "      <td>Silver Membership</td>\n",
       "      <td>CID8941</td>\n",
       "      <td>-999</td>\n",
       "      <td>44.57</td>\n",
       "      <td>11.0</td>\n",
       "      <td>744.970000</td>\n",
       "      <td>Too many ads</td>\n",
       "    </tr>\n",
       "    <tr>\n",
       "      <th>4</th>\n",
       "      <td>16</td>\n",
       "      <td>No Membership</td>\n",
       "      <td>CID5690</td>\n",
       "      <td>6</td>\n",
       "      <td>349.88</td>\n",
       "      <td>8.0</td>\n",
       "      <td>299.048351</td>\n",
       "      <td>Poor Website</td>\n",
       "    </tr>\n",
       "  </tbody>\n",
       "</table>\n",
       "</div>"
      ],
      "text/plain": [
       "   age membership_category referral_id  days_since_last_login  avg_time_spent  \\\n",
       "0   50  Premium Membership    xxxxxxxx                     12          386.26   \n",
       "1   41     Gold Membership    xxxxxxxx                     11           37.80   \n",
       "2   31   Silver Membership    xxxxxxxx                     18          215.36   \n",
       "3   64   Silver Membership     CID8941                   -999           44.57   \n",
       "4   16       No Membership     CID5690                      6          349.88   \n",
       "\n",
       "  avg_frequency_login_days  points_in_wallet              feedback  \n",
       "0                      7.0        733.830000  Poor Product Quality  \n",
       "1                      9.0        726.000000          Poor Website  \n",
       "2                     21.0        713.780000   No reason specified  \n",
       "3                     11.0        744.970000          Too many ads  \n",
       "4                      8.0        299.048351          Poor Website  "
      ]
     },
     "execution_count": 73,
     "metadata": {},
     "output_type": "execute_result"
    }
   ],
   "source": [
    "x_test1.head()"
   ]
  },
  {
   "cell_type": "code",
   "execution_count": 74,
   "metadata": {},
   "outputs": [
    {
     "data": {
      "text/html": [
       "<div>\n",
       "<style scoped>\n",
       "    .dataframe tbody tr th:only-of-type {\n",
       "        vertical-align: middle;\n",
       "    }\n",
       "\n",
       "    .dataframe tbody tr th {\n",
       "        vertical-align: top;\n",
       "    }\n",
       "\n",
       "    .dataframe thead th {\n",
       "        text-align: right;\n",
       "    }\n",
       "</style>\n",
       "<table border=\"1\" class=\"dataframe\">\n",
       "  <thead>\n",
       "    <tr style=\"text-align: right;\">\n",
       "      <th></th>\n",
       "      <th>age</th>\n",
       "      <th>membership_category</th>\n",
       "      <th>joining_date</th>\n",
       "      <th>referral_id</th>\n",
       "      <th>days_since_last_login</th>\n",
       "      <th>avg_time_spent</th>\n",
       "      <th>avg_frequency_login_days</th>\n",
       "      <th>points_in_wallet</th>\n",
       "      <th>points_in_wallet</th>\n",
       "      <th>feedback</th>\n",
       "      <th>churn_risk_score</th>\n",
       "    </tr>\n",
       "  </thead>\n",
       "  <tbody>\n",
       "    <tr>\n",
       "      <th>0</th>\n",
       "      <td>61</td>\n",
       "      <td>0</td>\n",
       "      <td>2015-01-01</td>\n",
       "      <td>11052</td>\n",
       "      <td>24</td>\n",
       "      <td>203.08</td>\n",
       "      <td>750</td>\n",
       "      <td>1092.629510</td>\n",
       "      <td>1092.629510</td>\n",
       "      <td>7</td>\n",
       "      <td>5</td>\n",
       "    </tr>\n",
       "    <tr>\n",
       "      <th>1</th>\n",
       "      <td>24</td>\n",
       "      <td>2</td>\n",
       "      <td>2015-01-01</td>\n",
       "      <td>2169</td>\n",
       "      <td>15</td>\n",
       "      <td>151.38</td>\n",
       "      <td>727</td>\n",
       "      <td>524.270000</td>\n",
       "      <td>524.270000</td>\n",
       "      <td>3</td>\n",
       "      <td>5</td>\n",
       "    </tr>\n",
       "    <tr>\n",
       "      <th>2</th>\n",
       "      <td>19</td>\n",
       "      <td>2</td>\n",
       "      <td>2015-01-01</td>\n",
       "      <td>6405</td>\n",
       "      <td>2</td>\n",
       "      <td>97.11</td>\n",
       "      <td>1173</td>\n",
       "      <td>500.110000</td>\n",
       "      <td>500.110000</td>\n",
       "      <td>3</td>\n",
       "      <td>5</td>\n",
       "    </tr>\n",
       "    <tr>\n",
       "      <th>3</th>\n",
       "      <td>13</td>\n",
       "      <td>4</td>\n",
       "      <td>2015-01-01</td>\n",
       "      <td>11052</td>\n",
       "      <td>20</td>\n",
       "      <td>145.57</td>\n",
       "      <td>701</td>\n",
       "      <td>687.008697</td>\n",
       "      <td>687.008697</td>\n",
       "      <td>1</td>\n",
       "      <td>3</td>\n",
       "    </tr>\n",
       "    <tr>\n",
       "      <th>4</th>\n",
       "      <td>60</td>\n",
       "      <td>2</td>\n",
       "      <td>2015-01-01</td>\n",
       "      <td>8900</td>\n",
       "      <td>14</td>\n",
       "      <td>127.40</td>\n",
       "      <td>1565</td>\n",
       "      <td>685.350000</td>\n",
       "      <td>685.350000</td>\n",
       "      <td>1</td>\n",
       "      <td>5</td>\n",
       "    </tr>\n",
       "  </tbody>\n",
       "</table>\n",
       "</div>"
      ],
      "text/plain": [
       "   age  membership_category joining_date  referral_id  days_since_last_login  \\\n",
       "0   61                    0   2015-01-01        11052                     24   \n",
       "1   24                    2   2015-01-01         2169                     15   \n",
       "2   19                    2   2015-01-01         6405                      2   \n",
       "3   13                    4   2015-01-01        11052                     20   \n",
       "4   60                    2   2015-01-01         8900                     14   \n",
       "\n",
       "   avg_time_spent  avg_frequency_login_days  points_in_wallet  \\\n",
       "0          203.08                       750       1092.629510   \n",
       "1          151.38                       727        524.270000   \n",
       "2           97.11                      1173        500.110000   \n",
       "3          145.57                       701        687.008697   \n",
       "4          127.40                      1565        685.350000   \n",
       "\n",
       "   points_in_wallet  feedback  churn_risk_score  \n",
       "0       1092.629510         7                 5  \n",
       "1        524.270000         3                 5  \n",
       "2        500.110000         3                 5  \n",
       "3        687.008697         1                 3  \n",
       "4        685.350000         1                 5  "
      ]
     },
     "execution_count": 74,
     "metadata": {},
     "output_type": "execute_result"
    }
   ],
   "source": [
    "x1.head()"
   ]
  },
  {
   "cell_type": "code",
   "execution_count": null,
   "metadata": {},
   "outputs": [],
   "source": []
  },
  {
   "cell_type": "code",
   "execution_count": 75,
   "metadata": {},
   "outputs": [
    {
     "data": {
      "text/html": [
       "<div>\n",
       "<style scoped>\n",
       "    .dataframe tbody tr th:only-of-type {\n",
       "        vertical-align: middle;\n",
       "    }\n",
       "\n",
       "    .dataframe tbody tr th {\n",
       "        vertical-align: top;\n",
       "    }\n",
       "\n",
       "    .dataframe thead th {\n",
       "        text-align: right;\n",
       "    }\n",
       "</style>\n",
       "<table border=\"1\" class=\"dataframe\">\n",
       "  <thead>\n",
       "    <tr style=\"text-align: right;\">\n",
       "      <th></th>\n",
       "      <th>age</th>\n",
       "      <th>membership_category</th>\n",
       "      <th>referral_id</th>\n",
       "      <th>days_since_last_login</th>\n",
       "      <th>avg_time_spent</th>\n",
       "      <th>avg_frequency_login_days</th>\n",
       "      <th>points_in_wallet</th>\n",
       "      <th>feedback</th>\n",
       "    </tr>\n",
       "  </thead>\n",
       "  <tbody>\n",
       "    <tr>\n",
       "      <th>0</th>\n",
       "      <td>50</td>\n",
       "      <td>Premium Membership</td>\n",
       "      <td>xxxxxxxx</td>\n",
       "      <td>12</td>\n",
       "      <td>386.26</td>\n",
       "      <td>7.0</td>\n",
       "      <td>733.830000</td>\n",
       "      <td>Poor Product Quality</td>\n",
       "    </tr>\n",
       "    <tr>\n",
       "      <th>1</th>\n",
       "      <td>41</td>\n",
       "      <td>Gold Membership</td>\n",
       "      <td>xxxxxxxx</td>\n",
       "      <td>11</td>\n",
       "      <td>37.80</td>\n",
       "      <td>9.0</td>\n",
       "      <td>726.000000</td>\n",
       "      <td>Poor Website</td>\n",
       "    </tr>\n",
       "    <tr>\n",
       "      <th>2</th>\n",
       "      <td>31</td>\n",
       "      <td>Silver Membership</td>\n",
       "      <td>xxxxxxxx</td>\n",
       "      <td>18</td>\n",
       "      <td>215.36</td>\n",
       "      <td>21.0</td>\n",
       "      <td>713.780000</td>\n",
       "      <td>No reason specified</td>\n",
       "    </tr>\n",
       "    <tr>\n",
       "      <th>3</th>\n",
       "      <td>64</td>\n",
       "      <td>Silver Membership</td>\n",
       "      <td>CID8941</td>\n",
       "      <td>-999</td>\n",
       "      <td>44.57</td>\n",
       "      <td>11.0</td>\n",
       "      <td>744.970000</td>\n",
       "      <td>Too many ads</td>\n",
       "    </tr>\n",
       "    <tr>\n",
       "      <th>4</th>\n",
       "      <td>16</td>\n",
       "      <td>No Membership</td>\n",
       "      <td>CID5690</td>\n",
       "      <td>6</td>\n",
       "      <td>349.88</td>\n",
       "      <td>8.0</td>\n",
       "      <td>299.048351</td>\n",
       "      <td>Poor Website</td>\n",
       "    </tr>\n",
       "  </tbody>\n",
       "</table>\n",
       "</div>"
      ],
      "text/plain": [
       "   age membership_category referral_id  days_since_last_login  avg_time_spent  \\\n",
       "0   50  Premium Membership    xxxxxxxx                     12          386.26   \n",
       "1   41     Gold Membership    xxxxxxxx                     11           37.80   \n",
       "2   31   Silver Membership    xxxxxxxx                     18          215.36   \n",
       "3   64   Silver Membership     CID8941                   -999           44.57   \n",
       "4   16       No Membership     CID5690                      6          349.88   \n",
       "\n",
       "  avg_frequency_login_days  points_in_wallet              feedback  \n",
       "0                      7.0        733.830000  Poor Product Quality  \n",
       "1                      9.0        726.000000          Poor Website  \n",
       "2                     21.0        713.780000   No reason specified  \n",
       "3                     11.0        744.970000          Too many ads  \n",
       "4                      8.0        299.048351          Poor Website  "
      ]
     },
     "execution_count": 75,
     "metadata": {},
     "output_type": "execute_result"
    }
   ],
   "source": [
    "x_test1.head()"
   ]
  },
  {
   "cell_type": "code",
   "execution_count": 76,
   "metadata": {},
   "outputs": [
    {
     "data": {
      "text/plain": [
       "customer_id                      object\n",
       "Name                             object\n",
       "age                               int64\n",
       "gender                           object\n",
       "security_no                      object\n",
       "region_category                  object\n",
       "membership_category              object\n",
       "joining_date                     object\n",
       "joined_through_referral          object\n",
       "referral_id                      object\n",
       "preferred_offer_types            object\n",
       "medium_of_operation              object\n",
       "internet_option                  object\n",
       "last_visit_time                  object\n",
       "days_since_last_login             int64\n",
       "avg_time_spent                  float64\n",
       "avg_transaction_value           float64\n",
       "avg_frequency_login_days         object\n",
       "points_in_wallet                float64\n",
       "used_special_discount            object\n",
       "offer_application_preference     object\n",
       "past_complaint                   object\n",
       "complaint_status                 object\n",
       "feedback                         object\n",
       "dtype: object"
      ]
     },
     "execution_count": 76,
     "metadata": {},
     "output_type": "execute_result"
    }
   ],
   "source": [
    "x_test.dtypes"
   ]
  },
  {
   "cell_type": "code",
   "execution_count": 77,
   "metadata": {},
   "outputs": [],
   "source": [
    "x_test[\"membership_category\"] = x_test[\"membership_category\"].astype('category')\n",
    "x_test[\"membership_category\"] = x_test[\"membership_category\"].cat.codes"
   ]
  },
  {
   "cell_type": "code",
   "execution_count": 78,
   "metadata": {},
   "outputs": [],
   "source": [
    "x_test[\"feedback\"] = x_test[\"feedback\"].astype('category')\n",
    "x_test[\"feedback\"] = x_test[\"feedback\"].cat.codes"
   ]
  },
  {
   "cell_type": "code",
   "execution_count": 79,
   "metadata": {},
   "outputs": [],
   "source": [
    "x_test[\"referral_id\"] = x_test[\"referral_id\"].astype('category')\n",
    "x_test[\"referral_id\"] = x_test[\"referral_id\"].cat.codes"
   ]
  },
  {
   "cell_type": "code",
   "execution_count": 80,
   "metadata": {},
   "outputs": [],
   "source": [
    "x_test[\"avg_frequency_login_days\"] = x_test[\"avg_frequency_login_days\"].astype('category')\n",
    "x_test[\"avg_frequency_login_days\"] = x_test[\"avg_frequency_login_days\"].cat.codes"
   ]
  },
  {
   "cell_type": "code",
   "execution_count": 81,
   "metadata": {},
   "outputs": [
    {
     "data": {
      "text/plain": [
       "customer_id                        0\n",
       "Name                               0\n",
       "age                                0\n",
       "gender                             0\n",
       "security_no                        0\n",
       "region_category                 2948\n",
       "membership_category                0\n",
       "joining_date                       0\n",
       "joined_through_referral            0\n",
       "referral_id                        0\n",
       "preferred_offer_types            159\n",
       "medium_of_operation                0\n",
       "internet_option                    0\n",
       "last_visit_time                    0\n",
       "days_since_last_login              0\n",
       "avg_time_spent                     0\n",
       "avg_transaction_value              0\n",
       "avg_frequency_login_days           0\n",
       "points_in_wallet                1963\n",
       "used_special_discount              0\n",
       "offer_application_preference       0\n",
       "past_complaint                     0\n",
       "complaint_status                   0\n",
       "feedback                           0\n",
       "dtype: int64"
      ]
     },
     "execution_count": 81,
     "metadata": {},
     "output_type": "execute_result"
    }
   ],
   "source": [
    "x_test.isnull().sum()"
   ]
  },
  {
   "cell_type": "code",
   "execution_count": 82,
   "metadata": {},
   "outputs": [
    {
     "name": "stderr",
     "output_type": "stream",
     "text": [
      "c:\\users\\kiit\\appdata\\local\\programs\\python\\python37\\lib\\site-packages\\pandas\\core\\frame.py:4312: SettingWithCopyWarning: \n",
      "A value is trying to be set on a copy of a slice from a DataFrame\n",
      "\n",
      "See the caveats in the documentation: https://pandas.pydata.org/pandas-docs/stable/user_guide/indexing.html#returning-a-view-versus-a-copy\n",
      "  errors=errors,\n"
     ]
    },
    {
     "data": {
      "text/html": [
       "<div>\n",
       "<style scoped>\n",
       "    .dataframe tbody tr th:only-of-type {\n",
       "        vertical-align: middle;\n",
       "    }\n",
       "\n",
       "    .dataframe tbody tr th {\n",
       "        vertical-align: top;\n",
       "    }\n",
       "\n",
       "    .dataframe thead th {\n",
       "        text-align: right;\n",
       "    }\n",
       "</style>\n",
       "<table border=\"1\" class=\"dataframe\">\n",
       "  <thead>\n",
       "    <tr style=\"text-align: right;\">\n",
       "      <th></th>\n",
       "      <th>age</th>\n",
       "      <th>membership_category</th>\n",
       "      <th>joining_date</th>\n",
       "      <th>referral_id</th>\n",
       "      <th>days_since_last_login</th>\n",
       "      <th>avg_time_spent</th>\n",
       "      <th>avg_frequency_login_days</th>\n",
       "      <th>feedback</th>\n",
       "      <th>churn_risk_score</th>\n",
       "    </tr>\n",
       "  </thead>\n",
       "  <tbody>\n",
       "    <tr>\n",
       "      <th>0</th>\n",
       "      <td>61</td>\n",
       "      <td>0</td>\n",
       "      <td>2015-01-01</td>\n",
       "      <td>11052</td>\n",
       "      <td>24</td>\n",
       "      <td>203.08</td>\n",
       "      <td>750</td>\n",
       "      <td>7</td>\n",
       "      <td>5</td>\n",
       "    </tr>\n",
       "    <tr>\n",
       "      <th>1</th>\n",
       "      <td>24</td>\n",
       "      <td>2</td>\n",
       "      <td>2015-01-01</td>\n",
       "      <td>2169</td>\n",
       "      <td>15</td>\n",
       "      <td>151.38</td>\n",
       "      <td>727</td>\n",
       "      <td>3</td>\n",
       "      <td>5</td>\n",
       "    </tr>\n",
       "    <tr>\n",
       "      <th>2</th>\n",
       "      <td>19</td>\n",
       "      <td>2</td>\n",
       "      <td>2015-01-01</td>\n",
       "      <td>6405</td>\n",
       "      <td>2</td>\n",
       "      <td>97.11</td>\n",
       "      <td>1173</td>\n",
       "      <td>3</td>\n",
       "      <td>5</td>\n",
       "    </tr>\n",
       "    <tr>\n",
       "      <th>3</th>\n",
       "      <td>13</td>\n",
       "      <td>4</td>\n",
       "      <td>2015-01-01</td>\n",
       "      <td>11052</td>\n",
       "      <td>20</td>\n",
       "      <td>145.57</td>\n",
       "      <td>701</td>\n",
       "      <td>1</td>\n",
       "      <td>3</td>\n",
       "    </tr>\n",
       "    <tr>\n",
       "      <th>4</th>\n",
       "      <td>60</td>\n",
       "      <td>2</td>\n",
       "      <td>2015-01-01</td>\n",
       "      <td>8900</td>\n",
       "      <td>14</td>\n",
       "      <td>127.40</td>\n",
       "      <td>1565</td>\n",
       "      <td>1</td>\n",
       "      <td>5</td>\n",
       "    </tr>\n",
       "  </tbody>\n",
       "</table>\n",
       "</div>"
      ],
      "text/plain": [
       "   age  membership_category joining_date  referral_id  days_since_last_login  \\\n",
       "0   61                    0   2015-01-01        11052                     24   \n",
       "1   24                    2   2015-01-01         2169                     15   \n",
       "2   19                    2   2015-01-01         6405                      2   \n",
       "3   13                    4   2015-01-01        11052                     20   \n",
       "4   60                    2   2015-01-01         8900                     14   \n",
       "\n",
       "   avg_time_spent  avg_frequency_login_days  feedback  churn_risk_score  \n",
       "0          203.08                       750         7                 5  \n",
       "1          151.38                       727         3                 5  \n",
       "2           97.11                      1173         3                 5  \n",
       "3          145.57                       701         1                 3  \n",
       "4          127.40                      1565         1                 5  "
      ]
     },
     "execution_count": 82,
     "metadata": {},
     "output_type": "execute_result"
    }
   ],
   "source": [
    "x1.drop(['points_in_wallet'], axis = 1,inplace=True)\n",
    "x1.head()"
   ]
  },
  {
   "cell_type": "code",
   "execution_count": 83,
   "metadata": {},
   "outputs": [],
   "source": [
    "a=[]\n",
    "a=x1['joining_date']"
   ]
  },
  {
   "cell_type": "code",
   "execution_count": 84,
   "metadata": {},
   "outputs": [
    {
     "name": "stdout",
     "output_type": "stream",
     "text": [
      "0       2015-01-01\n",
      "1       2015-01-01\n",
      "2       2015-01-01\n",
      "3       2015-01-01\n",
      "4       2015-01-01\n",
      "           ...    \n",
      "36987   2017-12-31\n",
      "36988   2017-12-31\n",
      "36989   2017-12-31\n",
      "36990   2017-12-31\n",
      "36991   2017-12-31\n",
      "Name: joining_date, Length: 35273, dtype: datetime64[ns]\n"
     ]
    }
   ],
   "source": [
    "print(a)"
   ]
  },
  {
   "cell_type": "code",
   "execution_count": 85,
   "metadata": {},
   "outputs": [
    {
     "data": {
      "text/plain": [
       "Timestamp('2017-02-28 00:00:00')"
      ]
     },
     "execution_count": 85,
     "metadata": {},
     "output_type": "execute_result"
    }
   ],
   "source": [
    "a[26454]"
   ]
  },
  {
   "cell_type": "code",
   "execution_count": 86,
   "metadata": {},
   "outputs": [],
   "source": [
    "x_train=x1[x1['joining_date'] <= '2017-02-28'].copy()\n",
    "x_temp=x1[x1['joining_date'] > '2017-02-28'].copy()\n",
    "\n",
    "\n",
    "# Spliting the temp into validation and test set\n",
    "# Now we can take 1 and a half month for validation and the remaining 1 and a half month for test.\n",
    "# our divide date for validation and test set is 2019-12-09\n",
    "\n"
   ]
  },
  {
   "cell_type": "code",
   "execution_count": 90,
   "metadata": {},
   "outputs": [
    {
     "ename": "AttributeError",
     "evalue": "'NoneType' object has no attribute 'shape'",
     "output_type": "error",
     "traceback": [
      "\u001b[1;31m---------------------------------------------------------------------------\u001b[0m",
      "\u001b[1;31mAttributeError\u001b[0m                            Traceback (most recent call last)",
      "\u001b[1;32m<ipython-input-90-2132a220a582>\u001b[0m in \u001b[0;36m<module>\u001b[1;34m\u001b[0m\n\u001b[1;32m----> 1\u001b[1;33m \u001b[0mx_train\u001b[0m\u001b[1;33m.\u001b[0m\u001b[0mshape\u001b[0m\u001b[1;33m\u001b[0m\u001b[1;33m\u001b[0m\u001b[0m\n\u001b[0m",
      "\u001b[1;31mAttributeError\u001b[0m: 'NoneType' object has no attribute 'shape'"
     ]
    }
   ],
   "source": [
    "x_train.shape"
   ]
  },
  {
   "cell_type": "code",
   "execution_count": 87,
   "metadata": {},
   "outputs": [
    {
     "ename": "AttributeError",
     "evalue": "'NoneType' object has no attribute 'drop'",
     "output_type": "error",
     "traceback": [
      "\u001b[1;31m---------------------------------------------------------------------------\u001b[0m",
      "\u001b[1;31mAttributeError\u001b[0m                            Traceback (most recent call last)",
      "\u001b[1;32m<ipython-input-87-c5d034a1adba>\u001b[0m in \u001b[0;36m<module>\u001b[1;34m\u001b[0m\n\u001b[0;32m      1\u001b[0m \u001b[0mx_train\u001b[0m\u001b[1;33m=\u001b[0m\u001b[0mx_train\u001b[0m\u001b[1;33m.\u001b[0m\u001b[0mdrop\u001b[0m\u001b[1;33m(\u001b[0m\u001b[1;33m[\u001b[0m\u001b[1;34m'joining_date'\u001b[0m\u001b[1;33m]\u001b[0m\u001b[1;33m,\u001b[0m \u001b[0maxis\u001b[0m \u001b[1;33m=\u001b[0m \u001b[1;36m1\u001b[0m\u001b[1;33m,\u001b[0m\u001b[0minplace\u001b[0m\u001b[1;33m=\u001b[0m\u001b[1;32mTrue\u001b[0m\u001b[1;33m)\u001b[0m\u001b[1;33m\u001b[0m\u001b[1;33m\u001b[0m\u001b[0m\n\u001b[1;32m----> 2\u001b[1;33m \u001b[0mx_train\u001b[0m\u001b[1;33m=\u001b[0m\u001b[0mx_train\u001b[0m\u001b[1;33m.\u001b[0m\u001b[0mdrop\u001b[0m\u001b[1;33m(\u001b[0m\u001b[1;33m[\u001b[0m\u001b[1;34m'joining_date'\u001b[0m\u001b[1;33m]\u001b[0m\u001b[1;33m,\u001b[0m \u001b[0maxis\u001b[0m \u001b[1;33m=\u001b[0m \u001b[1;36m1\u001b[0m\u001b[1;33m,\u001b[0m\u001b[0minplace\u001b[0m\u001b[1;33m=\u001b[0m\u001b[1;32mTrue\u001b[0m\u001b[1;33m)\u001b[0m\u001b[1;33m\u001b[0m\u001b[1;33m\u001b[0m\u001b[0m\n\u001b[0m",
      "\u001b[1;31mAttributeError\u001b[0m: 'NoneType' object has no attribute 'drop'"
     ]
    }
   ],
   "source": [
    "x_train=x_train.drop(['joining_date'], axis = 1,inplace=True) \n"
   ]
  },
  {
   "cell_type": "code",
   "execution_count": 89,
   "metadata": {},
   "outputs": [
    {
     "ename": "AttributeError",
     "evalue": "'NoneType' object has no attribute 'head'",
     "output_type": "error",
     "traceback": [
      "\u001b[1;31m---------------------------------------------------------------------------\u001b[0m",
      "\u001b[1;31mAttributeError\u001b[0m                            Traceback (most recent call last)",
      "\u001b[1;32m<ipython-input-89-05f11f7c331c>\u001b[0m in \u001b[0;36m<module>\u001b[1;34m\u001b[0m\n\u001b[1;32m----> 1\u001b[1;33m \u001b[0mx_train\u001b[0m\u001b[1;33m.\u001b[0m\u001b[0mhead\u001b[0m\u001b[1;33m(\u001b[0m\u001b[1;36m5\u001b[0m\u001b[1;33m)\u001b[0m\u001b[1;33m\u001b[0m\u001b[1;33m\u001b[0m\u001b[0m\n\u001b[0m",
      "\u001b[1;31mAttributeError\u001b[0m: 'NoneType' object has no attribute 'head'"
     ]
    }
   ],
   "source": [
    "x_train.head(5)"
   ]
  },
  {
   "cell_type": "code",
   "execution_count": 88,
   "metadata": {},
   "outputs": [
    {
     "ename": "TypeError",
     "evalue": "'NoneType' object is not subscriptable",
     "output_type": "error",
     "traceback": [
      "\u001b[1;31m---------------------------------------------------------------------------\u001b[0m",
      "\u001b[1;31mTypeError\u001b[0m                                 Traceback (most recent call last)",
      "\u001b[1;32m<ipython-input-88-70473d184c4d>\u001b[0m in \u001b[0;36m<module>\u001b[1;34m\u001b[0m\n\u001b[1;32m----> 1\u001b[1;33m \u001b[0my1\u001b[0m\u001b[1;33m=\u001b[0m\u001b[0mx_train\u001b[0m\u001b[1;33m[\u001b[0m\u001b[1;34m'churn_risk_score'\u001b[0m\u001b[1;33m]\u001b[0m\u001b[1;33m\u001b[0m\u001b[1;33m\u001b[0m\u001b[0m\n\u001b[0m\u001b[0;32m      2\u001b[0m \u001b[0mx_train\u001b[0m\u001b[1;33m=\u001b[0m\u001b[0mx_train\u001b[0m\u001b[1;33m[\u001b[0m\u001b[1;33m[\u001b[0m\u001b[1;34m'age'\u001b[0m\u001b[1;33m,\u001b[0m\u001b[1;34m'membership_category'\u001b[0m\u001b[1;33m,\u001b[0m\u001b[1;34m'referral_id'\u001b[0m\u001b[1;33m,\u001b[0m\u001b[1;34m'days_since_last_login'\u001b[0m\u001b[1;33m,\u001b[0m\u001b[1;34m'avg_time_spent'\u001b[0m\u001b[1;33m,\u001b[0m\u001b[1;34m'avg_frequency_login_days'\u001b[0m\u001b[1;33m,\u001b[0m\u001b[1;34m'feedback'\u001b[0m\u001b[1;33m]\u001b[0m\u001b[1;33m]\u001b[0m\u001b[1;33m\u001b[0m\u001b[1;33m\u001b[0m\u001b[0m\n",
      "\u001b[1;31mTypeError\u001b[0m: 'NoneType' object is not subscriptable"
     ]
    }
   ],
   "source": [
    "y1=x_train['churn_risk_score']\n",
    "x_train=x_train[['age','membership_category','referral_id','days_since_last_login','avg_time_spent','avg_frequency_login_days','feedback']]"
   ]
  },
  {
   "cell_type": "code",
   "execution_count": null,
   "metadata": {},
   "outputs": [],
   "source": [
    "y2=x_temp['churn_risk_score']\n",
    "x_temp=x_temp[['age','membership_category','referral_id','days_since_last_login','avg_time_spent','avg_frequency_login_days','feedback']]"
   ]
  },
  {
   "cell_type": "code",
   "execution_count": null,
   "metadata": {},
   "outputs": [],
   "source": []
  },
  {
   "cell_type": "code",
   "execution_count": null,
   "metadata": {},
   "outputs": [],
   "source": [
    "from sklearn.ensemble import RandomForestClassifier\n",
    "rfm=RandomForestClassifier(n_estimators=70,oob_score=True,n_jobs=-1,random_state=101,max_features=None,min_samples_leaf=30)\n",
    "rfm.fit(x_train,y1)\n",
    "y_pred=rfm.predict(x_temp)"
   ]
  }
 ],
 "metadata": {
  "kernelspec": {
   "display_name": "Python 3",
   "language": "python",
   "name": "python3"
  },
  "language_info": {
   "codemirror_mode": {
    "name": "ipython",
    "version": 3
   },
   "file_extension": ".py",
   "mimetype": "text/x-python",
   "name": "python",
   "nbconvert_exporter": "python",
   "pygments_lexer": "ipython3",
   "version": "3.7.7"
  }
 },
 "nbformat": 4,
 "nbformat_minor": 4
}
